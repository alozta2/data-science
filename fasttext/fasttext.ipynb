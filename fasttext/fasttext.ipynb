{
 "cells": [
  {
   "cell_type": "markdown",
   "metadata": {},
   "source": [
    "# Code In PyCharm\n",
    "fasttext.py"
   ]
  },
  {
   "cell_type": "code",
   "execution_count": 1,
   "metadata": {},
   "outputs": [
    {
     "name": "stderr",
     "output_type": "stream",
     "text": [
      "C:\\Users\\ozan.tacalan\\AppData\\Local\\Programs\\Python\\Python36\\Lib\\site-packages\\gensim\\utils.py:1212: UserWarning: detected Windows; aliasing chunkize to chunkize_serial\n",
      "  warnings.warn(\"detected Windows; aliasing chunkize to chunkize_serial\")\n"
     ]
    }
   ],
   "source": [
    "from gensim.test.utils import get_tmpfile\n",
    "from gensim.models import FastText\n",
    "import pandas as pd\n",
    "import time\n",
    "import numpy as np\n",
    "from sklearn.multiclass import OneVsOneClassifier\n",
    "from sklearn.svm import LinearSVC\n",
    "from sklearn import preprocessing\n",
    "from sklearn.model_selection import cross_val_predict\n",
    "from sklearn.metrics import accuracy_score, f1_score, recall_score, confusion_matrix, precision_score\n",
    "from sklearn.model_selection import train_test_split\n",
    "import matplotlib.pyplot as plt\n",
    "import seaborn as sbrn\n",
    "from sklearn import tree\n",
    "import string\n",
    "import re\n",
    "from sklearn.model_selection import KFold\n",
    "#import pickle\n",
    "import _pickle as cPickle #cPickle in Python3 comes as a library _pickle"
   ]
  },
  {
   "cell_type": "markdown",
   "metadata": {},
   "source": [
    "### Definitions"
   ]
  },
  {
   "cell_type": "code",
   "execution_count": 2,
   "metadata": {},
   "outputs": [],
   "source": [
    "%config IPCompleter.greedy=True #press TAB to auto complete\n",
    "VECTOR_DIM = 100\n",
    "failed_indexes = [] # failed sentences while fasttext tries to convert "
   ]
  },
  {
   "cell_type": "markdown",
   "metadata": {},
   "source": [
    "### Helper functions"
   ]
  },
  {
   "cell_type": "code",
   "execution_count": 4,
   "metadata": {},
   "outputs": [],
   "source": [
    "def sentence_vectorizer(input_array, operand='Average'):\n",
    "    if operand == 'Average':\n",
    "        sentence_vector = np.average(input_array, axis=0)\n",
    "    elif operand == 'Squares':\n",
    "        sentence_vector = np.sqrt(np.sum(np.square(input_array), axis=0))\n",
    "    elif operand == 'Both':\n",
    "        sentence_vector = np.concatenate((np.average(input_array, axis=0), np.sqrt(np.sum(np.square(input_array), axis=0))), axis=0)\n",
    "    return sentence_vector\n",
    "\n",
    "def weight_generator(size, default_weight, *weights):\n",
    "    weight_array = []\n",
    "    for i in range(size - len(weights)):\n",
    "        weight_array.append(default_weight)\n",
    "    for weight in weights:\n",
    "        weight_array.append(weight)\n",
    "    return weight_array"
   ]
  },
  {
   "cell_type": "code",
   "execution_count": 32,
   "metadata": {},
   "outputs": [
    {
     "name": "stdout",
     "output_type": "stream",
     "text": [
      "Punctuations are removed from sentences. Size: (59046, 11)\n"
     ]
    }
   ],
   "source": [
    "df = pd.read_csv(\"7_months_v2.csv\", sep=\";\", skipinitialspace=True, engine='python') #engine='python' required to run in ipython\n",
    "df_processed = df.copy()\n",
    "df_processed['sentence'] = df_processed['sentence'].str.replace('[{}]'.format(string.punctuation), ' ')\n",
    "print(\"Punctuations are removed from sentences. Size: {}\".format(df_processed.shape))"
   ]
  },
  {
   "cell_type": "markdown",
   "metadata": {},
   "source": [
    "### FastText"
   ]
  },
  {
   "cell_type": "code",
   "execution_count": null,
   "metadata": {},
   "outputs": [],
   "source": [
    "def create_fasttext_model():  # took 34 mins to create\n",
    "\tdfCombined = get_text()\n",
    "\tsentences = dfCombined.values.tolist()\n",
    "\tcorpus = []\n",
    "\tfor sentence in sentences:\n",
    "\t\tcorpus.append(str(sentence).split(' '))\n",
    "\n",
    "\tprint(len(corpus))\n",
    "\tmodel = FastText(corpus, seed=31, min_count=1, size=VECTOR_DIM, sg=1, window=3, hs=1, workers=3)\n",
    "\tmodel.save(\"fasttext.model\")\n",
    "\n",
    "\tprint(\"Dictionary's Length : \" + str(len(model.wv.vocab)))\n",
    "\n",
    "\treturn model"
   ]
  },
  {
   "cell_type": "markdown",
   "metadata": {},
   "source": [
    "- Get vectors of words (sentence) and apply operation to create one N sized vector that represents the sentence."
   ]
  },
  {
   "cell_type": "code",
   "execution_count": 22,
   "metadata": {},
   "outputs": [],
   "source": [
    "def convert_to_fasttext_numpy_vector(model, inputs, operation):\n",
    "\tw2v_array = []\n",
    "\ttry:\n",
    "\t\tfor line in range(len(inputs)):\n",
    "\t\t\tquestion = str(inputs[line][0]).strip() #[1]\n",
    "\n",
    "\t\t\twords = question.split()\n",
    "\t\t\tword_array = []\n",
    "\t\t\tfor word in words:\n",
    "\t\t\t\ttry:\n",
    "\t\t\t\t\tword_array.append(model[word])\n",
    "\t\t\t\texcept Exception as ex:\n",
    "\t\t\t\t\t# print word + \"  : \" + str(ex)\n",
    "\t\t\t\t\tword_array.append(np.zeros(VECTOR_DIM))\n",
    "\t\t\tline_avg_vector = sentence_vectorizer(word_array, operation)\n",
    "\t\t\tw2v_array.append(line_avg_vector)\n",
    "\texcept Exception as ex:\n",
    "\t\tprint(\"Exception occured in convert_to_fasttext_numpy_vector: \" + str(ex))\n",
    "\t\tpass\n",
    "\n",
    "\tnumpy.save(\"7_months_clean\" + operation + \".npy\", w2v_array)\n",
    "\treturn w2v_array\n",
    "\n",
    "def convert_str_array_to_numpy_vector(model, inputs, source, brand, _type, operation):\n",
    "\tno_exceptions = 0\n",
    "\ti = 0\n",
    "\tw2v_array = []\n",
    "\ttry:\n",
    "\t\tfor line in range(len(inputs)):\n",
    "\t\t\tquestion = re.sub(' +', ' ', str(inputs[line]).strip()) #[1], question = str(inputs[line][0]).strip()\n",
    "\n",
    "\t\t\twords = question.split()\n",
    "\t\t\tword_array = []\n",
    "\t\t\tfor word in words:\n",
    "\t\t\t\ttry:\n",
    "\t\t\t\t\tfasttext_word = model[word] #Throws exception on unknown words\n",
    "\t\t\t\t\tword_array.append(fasttext_word)\n",
    "\t\t\t\texcept Exception as ex:\n",
    "\t\t\t\t\t#print('>Sentence: ' + str(question))\n",
    "\t\t\t\t\t#print('>Words: ' + str(words))\n",
    "\t\t\t\t\t#print('Exception occured while creating numerical value for word ' + word + ': ' + str(ex))\n",
    "\t\t\t\t\tno_exceptions += 1\n",
    "\t\t\t\t\tword_array.append(np.zeros(VECTOR_DIM))\n",
    "\t\t\tline_avg_vector = sentence_vectorizer(word_array, operation)\n",
    "\t\t\tline_avg_vector[VECTOR_DIM - 3] = source[i]\n",
    "\t\t\tline_avg_vector[VECTOR_DIM - 2] = brand[i]\n",
    "\t\t\tline_avg_vector[VECTOR_DIM - 1] = _type[i]\n",
    "\t\t\tw2v_array.append(line_avg_vector)\n",
    "\t\t\ti += 1\n",
    "\texcept Exception as ex:\n",
    "\t\tprint(\"Exception occured in convert_to_fasttext_numpy_vector: \" + str(ex))\n",
    "\t\tpass\n",
    "\n",
    "\tprint('# of failed word calculation: ' + str(no_exceptions))\n",
    "\t#numpy.save(\"vector_\" + operation + \".npy\", w2v_array)\n",
    "\treturn w2v_array"
   ]
  },
  {
   "cell_type": "code",
   "execution_count": 6,
   "metadata": {},
   "outputs": [
    {
     "data": {
      "text/plain": [
       "55817"
      ]
     },
     "execution_count": 6,
     "metadata": {},
     "output_type": "execute_result"
    }
   ],
   "source": [
    "len(df['sentence'].values.tolist())"
   ]
  },
  {
   "cell_type": "code",
   "execution_count": 7,
   "metadata": {
    "scrolled": false
   },
   "outputs": [],
   "source": [
    "def getVectorFromSentence(model, sentence, operation):\n",
    "\tstr_arr = [[sentence]]\n",
    "\treturn convert_to_fasttext_numpy_vector(model, str_arr, operation)\n",
    "\n",
    "def generateNumpyVectorFromModel(model):\n",
    "\tconvert_to_fasttext_numpy_vector(model, get_labeled_text().values.tolist(), 'Average')\n",
    "\t#convert_to_fasttext_numpy_vector(model, get_labeled_text().values.tolist(), 'Squares')\n",
    "\t#convert_to_fasttext_numpy_vector(model, get_labeled_text().values.tolist(), 'Both')"
   ]
  },
  {
   "cell_type": "markdown",
   "metadata": {},
   "source": [
    "## Load Corpus"
   ]
  },
  {
   "cell_type": "code",
   "execution_count": null,
   "metadata": {},
   "outputs": [],
   "source": [
    "start_time = time.time()\n",
    "\n",
    "# model = create_fasttext_model()\n",
    "model = FastText.load(get_tmpfile(\"fasttext.model\"))\n",
    "print(\"data\" + str(model.wv.most_similar(positive=[\"fatura\"], topn=5)))\n",
    "print(\"science\" + str(model.wv.most_similar(positive=[\"ücret\"], topn=5)))\n",
    "\n",
    "print(\"--- Loading fast text model took %s seconds ---\" % (time.time() - start_time))"
   ]
  },
  {
   "cell_type": "markdown",
   "metadata": {},
   "source": [
    "- Convert labels with LabelEncoder, categorical to numerical conversion."
   ]
  },
  {
   "cell_type": "code",
   "execution_count": null,
   "metadata": {},
   "outputs": [],
   "source": [
    "labels = df_processed['label'].unique()\n",
    "labels[:10,]\n",
    "#labels"
   ]
  },
  {
   "cell_type": "code",
   "execution_count": null,
   "metadata": {},
   "outputs": [],
   "source": [
    "df_processed = df.copy() #rollback to old form\n",
    "df_processed = df_processed[['sentence','label','source','brand','type']]\n",
    "df_processed[df_processed.columns] = df_processed.apply(lambda x: x.str.strip()) #strip any whitespace remaining at begin&end\n",
    "df_processed.head(15)"
   ]
  },
  {
   "cell_type": "code",
   "execution_count": 42,
   "metadata": {},
   "outputs": [
    {
     "name": "stdout",
     "output_type": "stream",
     "text": [
      "unique sentence count: 50988\n",
      "unique label count: 113\n",
      "unique source count: 2\n",
      "unique brand count: 2\n",
      "unique type count: 2\n"
     ]
    }
   ],
   "source": [
    "print('unique sentence count: {}'.format(len(df_processed['sentence'].unique())))\n",
    "print('unique label count: {}'.format(len(df_processed['label'].unique())))\n",
    "print('unique source count: {}'.format(len(df_processed['source'].unique())))\n",
    "print('unique brand count: {}'.format(len(df_processed['brand'].unique())))\n",
    "print('unique type count: {}'.format(len(df_processed['type'].unique())))"
   ]
  },
  {
   "cell_type": "code",
   "execution_count": 55,
   "metadata": {},
   "outputs": [
    {
     "data": {
      "text/html": [
       "<div>\n",
       "<style scoped>\n",
       "    .dataframe tbody tr th:only-of-type {\n",
       "        vertical-align: middle;\n",
       "    }\n",
       "\n",
       "    .dataframe tbody tr th {\n",
       "        vertical-align: top;\n",
       "    }\n",
       "\n",
       "    .dataframe thead th {\n",
       "        text-align: right;\n",
       "    }\n",
       "</style>\n",
       "<table border=\"1\" class=\"dataframe\">\n",
       "  <thead>\n",
       "    <tr style=\"text-align: right;\">\n",
       "      <th></th>\n",
       "      <th>sentence</th>\n",
       "      <th>label</th>\n",
       "      <th>source</th>\n",
       "      <th>brand</th>\n",
       "      <th>type</th>\n",
       "    </tr>\n",
       "  </thead>\n",
       "  <tbody>\n",
       "    <tr>\n",
       "      <th>0</th>\n",
       "      <td>[-0.13886453, -0.5717392, 0.6484746, -0.359751...</td>\n",
       "      <td>1</td>\n",
       "      <td>0</td>\n",
       "      <td>0</td>\n",
       "      <td>0</td>\n",
       "    </tr>\n",
       "    <tr>\n",
       "      <th>1</th>\n",
       "      <td>[-0.21332426, -0.45715767, 0.5091378, -0.22698...</td>\n",
       "      <td>1</td>\n",
       "      <td>0</td>\n",
       "      <td>0</td>\n",
       "      <td>0</td>\n",
       "    </tr>\n",
       "    <tr>\n",
       "      <th>2</th>\n",
       "      <td>[-0.088749014, -0.3895533, 0.5956384, -0.16928...</td>\n",
       "      <td>1</td>\n",
       "      <td>0</td>\n",
       "      <td>0</td>\n",
       "      <td>0</td>\n",
       "    </tr>\n",
       "    <tr>\n",
       "      <th>3</th>\n",
       "      <td>[-0.2687642, -0.21038985, 0.7433767, -0.172685...</td>\n",
       "      <td>5</td>\n",
       "      <td>0</td>\n",
       "      <td>0</td>\n",
       "      <td>0</td>\n",
       "    </tr>\n",
       "    <tr>\n",
       "      <th>4</th>\n",
       "      <td>[-0.25181404, -0.15667057, 0.71771836, -0.2785...</td>\n",
       "      <td>5</td>\n",
       "      <td>0</td>\n",
       "      <td>0</td>\n",
       "      <td>0</td>\n",
       "    </tr>\n",
       "    <tr>\n",
       "      <th>5</th>\n",
       "      <td>[-0.1718809, -0.35072204, 0.47582346, -0.21936...</td>\n",
       "      <td>2</td>\n",
       "      <td>0</td>\n",
       "      <td>0</td>\n",
       "      <td>0</td>\n",
       "    </tr>\n",
       "    <tr>\n",
       "      <th>6</th>\n",
       "      <td>[-0.22355895, -0.34208745, 0.55608106, -0.1980...</td>\n",
       "      <td>4</td>\n",
       "      <td>0</td>\n",
       "      <td>0</td>\n",
       "      <td>0</td>\n",
       "    </tr>\n",
       "    <tr>\n",
       "      <th>7</th>\n",
       "      <td>[-0.20182048, -0.32203072, 0.88891727, -0.2880...</td>\n",
       "      <td>5</td>\n",
       "      <td>0</td>\n",
       "      <td>0</td>\n",
       "      <td>0</td>\n",
       "    </tr>\n",
       "    <tr>\n",
       "      <th>8</th>\n",
       "      <td>[-0.3397589, -0.24134636, 0.82864255, -0.09685...</td>\n",
       "      <td>5</td>\n",
       "      <td>0</td>\n",
       "      <td>0</td>\n",
       "      <td>0</td>\n",
       "    </tr>\n",
       "    <tr>\n",
       "      <th>9</th>\n",
       "      <td>[-0.13908678, -0.3037831, 0.6157272, -0.165231...</td>\n",
       "      <td>5</td>\n",
       "      <td>0</td>\n",
       "      <td>0</td>\n",
       "      <td>1</td>\n",
       "    </tr>\n",
       "    <tr>\n",
       "      <th>10</th>\n",
       "      <td>[-0.21712987, -0.26985326, 0.77050537, -0.0401...</td>\n",
       "      <td>5</td>\n",
       "      <td>0</td>\n",
       "      <td>0</td>\n",
       "      <td>1</td>\n",
       "    </tr>\n",
       "    <tr>\n",
       "      <th>11</th>\n",
       "      <td>[-0.22160651, -0.3574118, 0.6209752, -0.272695...</td>\n",
       "      <td>5</td>\n",
       "      <td>1</td>\n",
       "      <td>0</td>\n",
       "      <td>0</td>\n",
       "    </tr>\n",
       "    <tr>\n",
       "      <th>12</th>\n",
       "      <td>[-0.2866762, -0.38172027, 0.60821813, -0.31200...</td>\n",
       "      <td>5</td>\n",
       "      <td>0</td>\n",
       "      <td>0</td>\n",
       "      <td>0</td>\n",
       "    </tr>\n",
       "    <tr>\n",
       "      <th>13</th>\n",
       "      <td>[-0.16149488, -0.31038404, 0.7961126, -0.45095...</td>\n",
       "      <td>5</td>\n",
       "      <td>0</td>\n",
       "      <td>0</td>\n",
       "      <td>0</td>\n",
       "    </tr>\n",
       "    <tr>\n",
       "      <th>14</th>\n",
       "      <td>[-0.17066464, -0.36873135, 0.72285205, -0.0722...</td>\n",
       "      <td>5</td>\n",
       "      <td>0</td>\n",
       "      <td>0</td>\n",
       "      <td>0</td>\n",
       "    </tr>\n",
       "  </tbody>\n",
       "</table>\n",
       "</div>"
      ],
      "text/plain": [
       "                                             sentence  label  source  brand  \\\n",
       "0   [-0.13886453, -0.5717392, 0.6484746, -0.359751...      1       0      0   \n",
       "1   [-0.21332426, -0.45715767, 0.5091378, -0.22698...      1       0      0   \n",
       "2   [-0.088749014, -0.3895533, 0.5956384, -0.16928...      1       0      0   \n",
       "3   [-0.2687642, -0.21038985, 0.7433767, -0.172685...      5       0      0   \n",
       "4   [-0.25181404, -0.15667057, 0.71771836, -0.2785...      5       0      0   \n",
       "5   [-0.1718809, -0.35072204, 0.47582346, -0.21936...      2       0      0   \n",
       "6   [-0.22355895, -0.34208745, 0.55608106, -0.1980...      4       0      0   \n",
       "7   [-0.20182048, -0.32203072, 0.88891727, -0.2880...      5       0      0   \n",
       "8   [-0.3397589, -0.24134636, 0.82864255, -0.09685...      5       0      0   \n",
       "9   [-0.13908678, -0.3037831, 0.6157272, -0.165231...      5       0      0   \n",
       "10  [-0.21712987, -0.26985326, 0.77050537, -0.0401...      5       0      0   \n",
       "11  [-0.22160651, -0.3574118, 0.6209752, -0.272695...      5       1      0   \n",
       "12  [-0.2866762, -0.38172027, 0.60821813, -0.31200...      5       0      0   \n",
       "13  [-0.16149488, -0.31038404, 0.7961126, -0.45095...      5       0      0   \n",
       "14  [-0.17066464, -0.36873135, 0.72285205, -0.0722...      5       0      0   \n",
       "\n",
       "    type  \n",
       "0      0  \n",
       "1      0  \n",
       "2      0  \n",
       "3      0  \n",
       "4      0  \n",
       "5      0  \n",
       "6      0  \n",
       "7      0  \n",
       "8      0  \n",
       "9      1  \n",
       "10     1  \n",
       "11     0  \n",
       "12     0  \n",
       "13     0  \n",
       "14     0  "
      ]
     },
     "execution_count": 55,
     "metadata": {},
     "output_type": "execute_result"
    }
   ],
   "source": [
    "\n",
    "le_label = preprocessing.LabelEncoder()\n",
    "le_source = preprocessing.LabelEncoder()\n",
    "le_brand = preprocessing.LabelEncoder()\n",
    "le_type = preprocessing.LabelEncoder()\n",
    "#le_label.classes_\n",
    "df_processed['label'] = le_label.fit_transform(df_processed['label'].values)\n",
    "df_processed['source'] = le_source.fit_transform(df_processed['source'].values)\n",
    "df_processed['brand'] = le_brand.fit_transform(df_processed['brand'].values)\n",
    "df_processed['type'] = le_type.fit_transform(df_processed['type'].values)\n",
    "'''\n",
    "#save label encoder to disk\n",
    "df_le_label = 'generations\\\\label_encoder\\\\le_label.pkl'\n",
    "df_le_source = 'generations\\\\label_encoder\\\\le_source.pkl'\n",
    "df_le_brand = 'generations\\\\label_encoder\\\\le_brand.pkl'\n",
    "df_le_type = 'generations\\\\label_encoder\\\\le_type.pkl'\n",
    "with open(df_le_label, 'wb') as fid:\n",
    "    cPickle.dump(le_label, fid)\n",
    "with open(df_le_source, 'wb') as fid:\n",
    "    cPickle.dump(le_source, fid)\n",
    "with open(df_le_brand, 'wb') as fid:\n",
    "    cPickle.dump(le_brand, fid)\n",
    "with open(df_le_type, 'wb') as fid:\n",
    "    cPickle.dump(le_type, fid)\n",
    "'''\n",
    "df_processed.head(15)"
   ]
  },
  {
   "cell_type": "markdown",
   "metadata": {},
   "source": [
    "- Convert categorical input to numerical using fasttext."
   ]
  },
  {
   "cell_type": "code",
   "execution_count": 44,
   "metadata": {},
   "outputs": [
    {
     "name": "stderr",
     "output_type": "stream",
     "text": [
      "C:\\Users\\ozan.tacalan\\AppData\\Local\\Continuum\\anaconda3\\lib\\site-packages\\ipykernel_launcher.py:46: DeprecationWarning: Call to deprecated `__getitem__` (Method will be removed in 4.0.0, use self.wv.__getitem__() instead).\n"
     ]
    },
    {
     "name": "stdout",
     "output_type": "stream",
     "text": [
      "# of failed word calculation: 1293\n",
      "--- Categorical to numerical conversion took 19.74518847465515 seconds ---\n"
     ]
    },
    {
     "data": {
      "text/html": [
       "<div>\n",
       "<style scoped>\n",
       "    .dataframe tbody tr th:only-of-type {\n",
       "        vertical-align: middle;\n",
       "    }\n",
       "\n",
       "    .dataframe tbody tr th {\n",
       "        vertical-align: top;\n",
       "    }\n",
       "\n",
       "    .dataframe thead th {\n",
       "        text-align: right;\n",
       "    }\n",
       "</style>\n",
       "<table border=\"1\" class=\"dataframe\">\n",
       "  <thead>\n",
       "    <tr style=\"text-align: right;\">\n",
       "      <th></th>\n",
       "      <th>sentence</th>\n",
       "      <th>label</th>\n",
       "      <th>source</th>\n",
       "      <th>brand</th>\n",
       "      <th>type</th>\n",
       "    </tr>\n",
       "  </thead>\n",
       "  <tbody>\n",
       "    <tr>\n",
       "      <th>0</th>\n",
       "      <td>[-0.13886453, -0.5717392, 0.6484746, -0.359751...</td>\n",
       "      <td>1</td>\n",
       "      <td>0</td>\n",
       "      <td>0</td>\n",
       "      <td>0</td>\n",
       "    </tr>\n",
       "    <tr>\n",
       "      <th>1</th>\n",
       "      <td>[-0.21332426, -0.45715767, 0.5091378, -0.22698...</td>\n",
       "      <td>1</td>\n",
       "      <td>0</td>\n",
       "      <td>0</td>\n",
       "      <td>0</td>\n",
       "    </tr>\n",
       "    <tr>\n",
       "      <th>2</th>\n",
       "      <td>[-0.088749014, -0.3895533, 0.5956384, -0.16928...</td>\n",
       "      <td>1</td>\n",
       "      <td>0</td>\n",
       "      <td>0</td>\n",
       "      <td>0</td>\n",
       "    </tr>\n",
       "    <tr>\n",
       "      <th>3</th>\n",
       "      <td>[-0.2687642, -0.21038985, 0.7433767, -0.172685...</td>\n",
       "      <td>5</td>\n",
       "      <td>0</td>\n",
       "      <td>0</td>\n",
       "      <td>0</td>\n",
       "    </tr>\n",
       "    <tr>\n",
       "      <th>4</th>\n",
       "      <td>[-0.25181404, -0.15667057, 0.71771836, -0.2785...</td>\n",
       "      <td>5</td>\n",
       "      <td>0</td>\n",
       "      <td>0</td>\n",
       "      <td>0</td>\n",
       "    </tr>\n",
       "    <tr>\n",
       "      <th>5</th>\n",
       "      <td>[-0.1718809, -0.35072204, 0.47582346, -0.21936...</td>\n",
       "      <td>2</td>\n",
       "      <td>0</td>\n",
       "      <td>0</td>\n",
       "      <td>0</td>\n",
       "    </tr>\n",
       "    <tr>\n",
       "      <th>6</th>\n",
       "      <td>[-0.22355895, -0.34208745, 0.55608106, -0.1980...</td>\n",
       "      <td>4</td>\n",
       "      <td>0</td>\n",
       "      <td>0</td>\n",
       "      <td>0</td>\n",
       "    </tr>\n",
       "    <tr>\n",
       "      <th>7</th>\n",
       "      <td>[-0.20182048, -0.32203072, 0.88891727, -0.2880...</td>\n",
       "      <td>5</td>\n",
       "      <td>0</td>\n",
       "      <td>0</td>\n",
       "      <td>0</td>\n",
       "    </tr>\n",
       "    <tr>\n",
       "      <th>8</th>\n",
       "      <td>[-0.3397589, -0.24134636, 0.82864255, -0.09685...</td>\n",
       "      <td>5</td>\n",
       "      <td>0</td>\n",
       "      <td>0</td>\n",
       "      <td>0</td>\n",
       "    </tr>\n",
       "    <tr>\n",
       "      <th>9</th>\n",
       "      <td>[-0.13908678, -0.3037831, 0.6157272, -0.165231...</td>\n",
       "      <td>5</td>\n",
       "      <td>0</td>\n",
       "      <td>0</td>\n",
       "      <td>1</td>\n",
       "    </tr>\n",
       "    <tr>\n",
       "      <th>10</th>\n",
       "      <td>[-0.21712987, -0.26985326, 0.77050537, -0.0401...</td>\n",
       "      <td>5</td>\n",
       "      <td>0</td>\n",
       "      <td>0</td>\n",
       "      <td>1</td>\n",
       "    </tr>\n",
       "    <tr>\n",
       "      <th>11</th>\n",
       "      <td>[-0.22160651, -0.3574118, 0.6209752, -0.272695...</td>\n",
       "      <td>5</td>\n",
       "      <td>1</td>\n",
       "      <td>0</td>\n",
       "      <td>0</td>\n",
       "    </tr>\n",
       "    <tr>\n",
       "      <th>12</th>\n",
       "      <td>[-0.2866762, -0.38172027, 0.60821813, -0.31200...</td>\n",
       "      <td>5</td>\n",
       "      <td>0</td>\n",
       "      <td>0</td>\n",
       "      <td>0</td>\n",
       "    </tr>\n",
       "    <tr>\n",
       "      <th>13</th>\n",
       "      <td>[-0.16149488, -0.31038404, 0.7961126, -0.45095...</td>\n",
       "      <td>5</td>\n",
       "      <td>0</td>\n",
       "      <td>0</td>\n",
       "      <td>0</td>\n",
       "    </tr>\n",
       "    <tr>\n",
       "      <th>14</th>\n",
       "      <td>[-0.17066464, -0.36873135, 0.72285205, -0.0722...</td>\n",
       "      <td>5</td>\n",
       "      <td>0</td>\n",
       "      <td>0</td>\n",
       "      <td>0</td>\n",
       "    </tr>\n",
       "  </tbody>\n",
       "</table>\n",
       "</div>"
      ],
      "text/plain": [
       "                                             sentence  label  source  brand  \\\n",
       "0   [-0.13886453, -0.5717392, 0.6484746, -0.359751...      1       0      0   \n",
       "1   [-0.21332426, -0.45715767, 0.5091378, -0.22698...      1       0      0   \n",
       "2   [-0.088749014, -0.3895533, 0.5956384, -0.16928...      1       0      0   \n",
       "3   [-0.2687642, -0.21038985, 0.7433767, -0.172685...      5       0      0   \n",
       "4   [-0.25181404, -0.15667057, 0.71771836, -0.2785...      5       0      0   \n",
       "5   [-0.1718809, -0.35072204, 0.47582346, -0.21936...      2       0      0   \n",
       "6   [-0.22355895, -0.34208745, 0.55608106, -0.1980...      4       0      0   \n",
       "7   [-0.20182048, -0.32203072, 0.88891727, -0.2880...      5       0      0   \n",
       "8   [-0.3397589, -0.24134636, 0.82864255, -0.09685...      5       0      0   \n",
       "9   [-0.13908678, -0.3037831, 0.6157272, -0.165231...      5       0      0   \n",
       "10  [-0.21712987, -0.26985326, 0.77050537, -0.0401...      5       0      0   \n",
       "11  [-0.22160651, -0.3574118, 0.6209752, -0.272695...      5       1      0   \n",
       "12  [-0.2866762, -0.38172027, 0.60821813, -0.31200...      5       0      0   \n",
       "13  [-0.16149488, -0.31038404, 0.7961126, -0.45095...      5       0      0   \n",
       "14  [-0.17066464, -0.36873135, 0.72285205, -0.0722...      5       0      0   \n",
       "\n",
       "    type  \n",
       "0      0  \n",
       "1      0  \n",
       "2      0  \n",
       "3      0  \n",
       "4      0  \n",
       "5      0  \n",
       "6      0  \n",
       "7      0  \n",
       "8      0  \n",
       "9      1  \n",
       "10     1  \n",
       "11     0  \n",
       "12     0  \n",
       "13     0  \n",
       "14     0  "
      ]
     },
     "execution_count": 44,
     "metadata": {},
     "output_type": "execute_result"
    }
   ],
   "source": [
    "start_time = time.time()\n",
    "#generateNumpyVectorFromModel(model)\n",
    "df_processed['sentence'] = convert_str_array_to_numpy_vector(model, df_processed['sentence'].values.tolist(), df_processed['source'].values.tolist(), df_processed['brand'].values.tolist(), df_processed['type'].values.tolist(), 'Average')\n",
    "print(\"--- Categorical to numerical conversion took %s seconds ---\" % (time.time() - start_time))\n",
    "df_processed.head(15)"
   ]
  },
  {
   "cell_type": "code",
   "execution_count": 45,
   "metadata": {},
   "outputs": [
    {
     "data": {
      "text/plain": [
       "array([-0.22160651, -0.3574118 ,  0.6209752 , -0.27269584,  0.14658885,\n",
       "        0.55882514, -0.15553251, -0.34586847,  0.06274786,  0.24909681,\n",
       "        0.10814667,  0.25191024,  0.15382251, -0.33343866, -0.01843015,\n",
       "        0.07476072, -0.3059573 , -0.29260126,  0.25827533, -0.3268766 ,\n",
       "        0.17340875, -0.11909965,  0.22600158,  0.19398236,  0.33184692,\n",
       "        0.08558659,  0.1533467 , -0.06008039,  0.10583185, -0.29262555,\n",
       "       -0.09823685, -0.31461856, -0.23317999, -0.18836676,  0.16585888,\n",
       "       -0.14726113, -0.06529285,  0.04858396,  0.0595565 ,  0.32360122,\n",
       "       -0.61748755,  0.2669434 , -0.22801529, -0.03403019, -0.08519905,\n",
       "       -0.20898668, -0.1954992 , -0.2594698 ,  0.01181354, -0.00330374,\n",
       "        0.13634294,  0.01627418,  0.35457942,  0.37490052, -0.28058755,\n",
       "       -0.15595418,  0.2657585 , -0.18274245, -0.26160264,  0.3402638 ,\n",
       "       -0.28744727, -0.01246708,  0.32949415,  0.34350964,  0.48714378,\n",
       "       -0.11758769, -0.14325692, -0.03429096,  0.01670733, -0.4848779 ,\n",
       "       -0.1383557 , -0.1780372 ,  0.05784298,  0.7331935 ,  0.40088654,\n",
       "        0.3110792 , -0.39167836, -0.1315794 , -0.40785202,  0.24712244,\n",
       "       -0.09017165, -0.00725316,  0.27374518, -0.22704019, -0.3532451 ,\n",
       "        0.21490873,  0.35562578, -0.36057526,  0.42639044, -0.05879562,\n",
       "       -0.38358328, -0.19748677,  0.07457173,  0.17511323,  0.44752944,\n",
       "       -0.04944356,  0.0304643 ,  1.        ,  0.        ,  0.        ],\n",
       "      dtype=float32)"
      ]
     },
     "execution_count": 45,
     "metadata": {},
     "output_type": "execute_result"
    }
   ],
   "source": [
    "df_processed['sentence'][11]"
   ]
  },
  {
   "cell_type": "code",
   "execution_count": 46,
   "metadata": {},
   "outputs": [
    {
     "data": {
      "text/plain": [
       "(59046, 5)"
      ]
     },
     "execution_count": 46,
     "metadata": {},
     "output_type": "execute_result"
    }
   ],
   "source": [
    "df_processed.shape"
   ]
  },
  {
   "cell_type": "markdown",
   "metadata": {},
   "source": [
    "## Main Code"
   ]
  },
  {
   "cell_type": "markdown",
   "metadata": {},
   "source": [
    "- Split data."
   ]
  },
  {
   "cell_type": "code",
   "execution_count": 47,
   "metadata": {},
   "outputs": [
    {
     "name": "stdout",
     "output_type": "stream",
     "text": [
      "X.shape: (59046,)\n",
      "y.shape: (59046,)\n",
      "X_train.shape: (44284,)\n",
      "y_train.shape: (44284,)\n",
      "X_test.shape: (14762,)\n",
      "y_test.shape: (14762,)\n"
     ]
    }
   ],
   "source": [
    "# Split into train/test\n",
    "#X = df_processed.drop('label', axis=1)\n",
    "X = df_processed['sentence']\n",
    "y = df_processed['label']\n",
    "print('X.shape: ' + str(X.shape))\n",
    "print('y.shape: ' + str(y.shape))\n",
    "#X_train, X_test, y_train, y_test = train_test_split(X, y, test_size=0.25, random_state=42)\n",
    "X_train, X_test, y_train, y_test = train_test_split(X, y, test_size=0.25)\n",
    "print('X_train.shape: ' + str(X_train.shape))\n",
    "print('y_train.shape: ' + str(y_train.shape))\n",
    "print('X_test.shape: ' + str(X_test.shape))\n",
    "print('y_test.shape: ' + str(y_test.shape))"
   ]
  },
  {
   "cell_type": "code",
   "execution_count": 48,
   "metadata": {},
   "outputs": [
    {
     "data": {
      "text/plain": [
       "array([array([-0.2413266 , -0.48672917,  0.54246897, -0.2245108 ,  0.08491115,\n",
       "        0.4751419 , -0.3023135 , -0.4417715 , -0.00881081,  0.51322514,\n",
       "       -0.09165042,  0.22655228,  0.08891266, -0.25855854, -0.1172027 ,\n",
       "        0.26169094, -0.34509277, -0.04966142,  0.38289878, -0.19733302,\n",
       "        0.24352117, -0.16880903,  0.5173165 ,  0.24109706,  0.37382695,\n",
       "       -0.02255666,  0.04275691,  0.0267151 ,  0.20895971, -0.06791739,\n",
       "       -0.0119238 , -0.04360935, -0.24439348, -0.2178795 ,  0.12160984,\n",
       "       -0.13407055, -0.09032638, -0.12705067, -0.17173134,  0.26527086,\n",
       "       -0.5475096 ,  0.1995205 , -0.27610692, -0.08498312, -0.10368767,\n",
       "       -0.13682099, -0.3504965 , -0.1567296 ,  0.14466612,  0.04077724,\n",
       "        0.5023666 , -0.07922898,  0.4941962 ,  0.3925435 , -0.35731745,\n",
       "       -0.32061434, -0.04557199, -0.47219852, -0.5597373 ,  0.10401913,\n",
       "       -0.49012163,  0.0702223 ,  0.3147318 ,  0.3631564 ,  0.71275455,\n",
       "       -0.2981039 , -0.2337191 , -0.06235712, -0.0960146 , -0.527914  ,\n",
       "       -0.23921786, -0.17818142,  0.2075411 ,  0.69809514,  0.4336135 ,\n",
       "        0.04389314, -0.40927747, -0.19925226, -0.49372673,  0.07489675,\n",
       "       -0.28861186, -0.04226657,  0.17936143, -0.379616  , -0.18407986,\n",
       "        0.12545896,  0.38639513, -0.36665422,  0.28145108, -0.11052082,\n",
       "       -0.5738552 , -0.23406847,  0.28536245,  0.2038422 ,  0.14135163,\n",
       "        0.01103151, -0.02941761,  0.        ,  0.        ,  0.        ],\n",
       "      dtype=float32),\n",
       "       array([-0.5086014 , -0.6815938 ,  0.604424  ,  0.05700324,  0.31807765,\n",
       "        0.26472378, -0.33511865, -0.34450772, -0.20883451,  0.01977919,\n",
       "        0.09788011,  0.10708043,  0.19635159, -0.1615328 ,  0.232078  ,\n",
       "        0.18113011, -0.4818912 , -0.24047214, -0.28735006, -0.2130274 ,\n",
       "        0.25315633,  0.2761386 ,  0.5829169 ,  0.49663347,  0.15470624,\n",
       "       -0.21262734, -0.19846791,  0.06191368,  0.1723327 , -0.18019709,\n",
       "       -0.23442686, -0.11203674, -0.30620748,  0.0659631 ,  0.24605691,\n",
       "       -0.02322561,  0.11791665, -0.07140142,  0.24115786,  0.07046277,\n",
       "       -0.4861614 ,  0.4991363 , -0.2969257 , -0.39203936,  0.05828025,\n",
       "       -0.076582  , -0.3274728 , -0.18400009,  0.10161774, -0.15972501,\n",
       "        0.44778007,  0.09552744,  0.6362226 ,  0.41501278, -0.34529316,\n",
       "       -0.45883465,  0.20458269, -0.28026533, -0.33826238,  0.19028133,\n",
       "       -0.40521023,  0.11121073,  0.24935879,  0.22744527,  0.02140875,\n",
       "       -0.23935336, -0.15812264, -0.17584687, -0.04350908, -0.6814598 ,\n",
       "       -0.3503781 , -0.2547824 ,  0.33146307,  0.97012293,  0.769001  ,\n",
       "        0.88972074, -0.1730883 , -0.15819997, -0.40862706,  0.192924  ,\n",
       "       -0.24404472, -0.2051599 ,  0.2683616 , -0.5213116 , -0.55454993,\n",
       "        0.13730356,  0.01929259, -0.6272527 ,  0.09727213, -0.0656905 ,\n",
       "       -0.28064725, -0.23855849, -0.07825121,  0.52233547,  0.47056633,\n",
       "       -0.33900517, -0.00341601,  1.        ,  0.        ,  0.        ],\n",
       "      dtype=float32),\n",
       "       array([-0.22981253, -0.4564885 ,  0.393292  ,  0.20299694,  0.41172495,\n",
       "        0.3197751 , -0.00713878, -0.02353862,  0.05693645,  0.13709106,\n",
       "        0.09764414,  0.62120205,  0.12030538, -0.20811565, -0.19969516,\n",
       "        0.01601052, -0.33085695,  0.09993924,  0.0795774 , -0.47595537,\n",
       "        0.47676158, -0.03716139,  0.2509653 ,  0.27400485,  0.36729768,\n",
       "        0.2833786 ,  0.13658348,  0.19557011,  0.20010644, -0.16745712,\n",
       "       -0.41933686, -0.3150302 , -0.03943032, -0.15009262,  0.29147297,\n",
       "       -0.2753669 , -0.27999616, -0.09287664,  0.5058458 ,  0.08989936,\n",
       "       -0.47287348,  0.07774749, -0.84001887,  0.20808424, -0.04744688,\n",
       "       -0.32813045, -0.6174277 ,  0.18832488, -0.44395956,  0.13172507,\n",
       "       -0.10439982,  0.36918178,  0.47836417,  0.65585554, -0.13772164,\n",
       "       -0.03843885,  0.11515566, -0.29437703, -0.5835283 ,  0.2538401 ,\n",
       "       -0.070463  , -0.12765014,  0.35467088, -0.00736237,  0.82368565,\n",
       "        0.15134782, -0.02695813, -0.15499407,  0.11152257, -0.48930776,\n",
       "       -0.3576401 , -0.3628428 , -0.13867292,  0.51016384,  0.60574394,\n",
       "        0.34695774, -0.7410257 , -0.3177747 , -0.44215715,  0.41006747,\n",
       "       -0.15434125,  0.02457879, -0.08290412, -0.12838401, -0.384648  ,\n",
       "       -0.01469353,  0.6113748 , -0.30405778,  0.09652749,  0.10982642,\n",
       "       -0.48763794, -0.43177232,  0.3956918 ,  0.5779495 ,  0.19575897,\n",
       "       -0.00784041,  0.08288418,  0.        ,  1.        ,  0.        ],\n",
       "      dtype=float32),\n",
       "       array([-0.31574398, -0.5238757 ,  0.79930854, -0.00255706,  0.02636721,\n",
       "        0.5320661 , -0.00926696, -0.7444023 ,  0.13382828,  0.4778031 ,\n",
       "        0.36916903,  0.39348772,  0.18741292, -0.1633283 ,  0.08209309,\n",
       "        0.29258034, -0.26714522, -0.40084547,  0.3085217 , -0.5298658 ,\n",
       "        0.09332772, -0.00999301,  0.30252302,  0.2132178 ,  0.23699798,\n",
       "        0.17028323,  0.09164005,  0.14423701,  0.12370826, -0.1625745 ,\n",
       "        0.06272159, -0.39317498, -0.16510867, -0.2835848 ,  0.32278326,\n",
       "       -0.68758935, -0.24634077,  0.30244255, -0.04034877,  0.25893572,\n",
       "       -0.5748383 ,  0.06296731, -0.06352127,  0.01083604,  0.03103956,\n",
       "        0.08142732, -0.19047488, -0.44768775,  0.18415958,  0.16879521,\n",
       "        0.32132354,  0.0857939 ,  0.52460986,  0.66828084, -0.10635924,\n",
       "        0.07922085,  0.39218137, -0.29418227, -0.24955617,  0.3458751 ,\n",
       "       -0.5004525 , -0.2373062 ,  0.5098064 ,  0.48000443,  0.6543221 ,\n",
       "        0.00462926,  0.15818317,  0.16919902, -0.0345118 , -0.4699481 ,\n",
       "       -0.09046503, -0.3240165 ,  0.20582303,  0.7858536 ,  0.16301996,\n",
       "        0.05193549, -0.05798471, -0.30703622, -0.41456673,  0.05787086,\n",
       "       -0.21251127,  0.09276477,  0.30074233, -0.12849925, -0.3340442 ,\n",
       "        0.35551792,  0.06997574, -0.23988196,  0.38273382, -0.07562523,\n",
       "       -0.3751983 , -0.36348528, -0.02194874,  0.43448055,  0.51125723,\n",
       "       -0.06193564, -0.10780104,  1.        ,  1.        ,  0.        ],\n",
       "      dtype=float32),\n",
       "       array([-0.41064295, -0.3506389 ,  0.56542975, -0.20035976,  0.24277276,\n",
       "        0.24271333,  0.11433008, -0.1615781 , -0.31406984,  0.23212653,\n",
       "        0.31921074,  0.45862222,  0.6631182 , -0.4148667 , -0.48483577,\n",
       "       -0.2686132 , -0.33694813, -0.21418531,  0.25872377, -0.6221215 ,\n",
       "        0.15257356, -0.35257515,  0.21790288,  0.01433596,  0.29966673,\n",
       "        0.27181965,  0.16484387, -0.15875424, -0.05054055, -0.02212471,\n",
       "       -0.07454445, -0.21310867, -0.06771035, -0.05619348,  0.10294265,\n",
       "        0.06516334, -0.23052461,  0.09367186, -0.03099653,  0.18476103,\n",
       "       -0.6298903 ,  0.0141667 , -0.5922478 , -0.15769233, -0.21523409,\n",
       "       -0.32505727, -0.43161735,  0.02863254,  0.19497138,  0.29490757,\n",
       "        0.09555493,  0.45904574,  0.2705072 ,  0.21254234, -0.07634663,\n",
       "       -0.34196874, -0.01478991, -0.04738155, -0.4773792 ,  0.05025129,\n",
       "        0.02959076,  0.15830486,  0.01008787,  0.5912274 ,  0.60181737,\n",
       "       -0.07726417, -0.02475928,  0.02768537,  0.03889918, -0.61128354,\n",
       "        0.06987115, -0.1264109 ,  0.32166758,  0.8739739 ,  0.41390386,\n",
       "        0.18758917, -0.21725579, -0.61332303, -0.1787883 ,  0.19510762,\n",
       "        0.10318377, -0.04933997,  0.29938117, -0.4985814 , -0.10751065,\n",
       "       -0.24947195,  0.2765528 , -0.44426915,  0.01477413,  0.4449794 ,\n",
       "       -0.49081066, -0.09653679,  0.08553505,  0.26281345,  0.78291553,\n",
       "        0.21407044,  0.26677325,  0.        ,  0.        ,  0.        ],\n",
       "      dtype=float32),\n",
       "       array([-1.3541253e-01, -5.1811808e-01,  2.5395325e-01, -9.0076022e-02,\n",
       "        2.6396501e-01,  4.4775483e-01, -3.7664643e-01,  5.5113077e-02,\n",
       "       -9.9997178e-02,  3.7145802e-01,  7.8871235e-02,  3.3467025e-01,\n",
       "        2.1665660e-01, -6.6122675e-04, -1.9069780e-01,  6.3535556e-02,\n",
       "       -2.7419838e-01, -1.3657396e-01, -4.7419600e-02, -2.3659301e-01,\n",
       "        6.7305245e-02, -1.2096227e-01,  5.3588843e-01,  7.6868184e-02,\n",
       "        1.1711836e-01,  2.4887778e-01,  1.9470822e-02, -1.2689178e-01,\n",
       "        1.1332421e-02, -4.5541784e-01, -2.1411869e-01, -1.0594975e-01,\n",
       "       -1.9274326e-01,  9.1468945e-02,  4.8726073e-01,  3.6212631e-02,\n",
       "       -1.6851475e-02, -1.0822474e-01,  9.7390614e-02,  3.4567887e-01,\n",
       "       -7.9326755e-01,  2.3761491e-01, -4.5519990e-01, -7.4480005e-02,\n",
       "       -8.8813618e-02, -2.8357929e-01, -1.7855234e-01, -2.3865390e-01,\n",
       "       -7.7640869e-02, -2.4607915e-01,  3.7166432e-01,  2.7211031e-01,\n",
       "        2.8256419e-01,  5.1576060e-01, -1.7524032e-01,  1.1515607e-02,\n",
       "        1.3312516e-01, -1.1389693e-01, -4.4242570e-01,  1.3055925e-01,\n",
       "       -3.3337983e-01,  5.5408385e-02,  2.7841696e-01,  2.6961747e-01,\n",
       "        3.9112228e-01,  1.4590661e-01,  1.2826267e-01, -1.6544928e-01,\n",
       "        4.6762574e-02, -7.0768279e-01, -1.9355200e-01, -1.7585489e-01,\n",
       "        1.5591627e-01,  6.3341671e-01,  5.7673007e-01,  2.4570058e-01,\n",
       "       -4.5490533e-01, -4.7453183e-01, -7.3113459e-01,  2.6426589e-01,\n",
       "       -1.6831754e-01,  3.0511154e-02,  2.3265837e-01, -4.6540263e-01,\n",
       "       -3.1403765e-02, -5.5961505e-02,  3.4084442e-01, -5.1138550e-01,\n",
       "        3.6628902e-01,  5.1018450e-02, -3.4392369e-01, -2.5093481e-01,\n",
       "       -9.3315855e-02, -3.6160178e-02,  2.9554927e-01, -5.2784681e-03,\n",
       "        1.6581072e-02,  0.0000000e+00,  0.0000000e+00,  0.0000000e+00],\n",
       "      dtype=float32),\n",
       "       array([-0.05417857, -0.42580378,  0.3089825 ,  0.04198189,  0.3242034 ,\n",
       "        0.47281954,  0.02422241, -0.11766566, -0.19506253,  0.4448496 ,\n",
       "        0.24717683,  0.29285955,  0.06091355, -0.13707842, -0.28247586,\n",
       "        0.2862294 , -0.37153137, -0.23344418,  0.26417825, -0.37202886,\n",
       "        0.03712567, -0.11373125,  0.5049913 ,  0.35530365,  0.36454153,\n",
       "       -0.15748893, -0.03666644, -0.19537698,  0.04628989, -0.3162018 ,\n",
       "       -0.05864273, -0.1738881 , -0.1100316 , -0.06757428,  0.13976154,\n",
       "       -0.09642449, -0.11920668, -0.15823887,  0.13600563,  0.21898907,\n",
       "       -0.6118982 ,  0.05567981, -0.34978917, -0.04695994, -0.21490577,\n",
       "       -0.16307135, -0.14469746, -0.35138127, -0.09884748,  0.03220765,\n",
       "        0.34376252, -0.10103274,  0.5483334 ,  0.32377332, -0.4307432 ,\n",
       "        0.06319569,  0.15060054, -0.00240664, -0.44662926,  0.06568427,\n",
       "       -0.35804752, -0.2640801 ,  0.38431156,  0.322095  ,  0.4830519 ,\n",
       "       -0.17494668, -0.10443261, -0.3946284 ,  0.02976365, -0.5902925 ,\n",
       "       -0.15884598, -0.06760785,  0.04949562,  0.61094165,  0.42823127,\n",
       "        0.01322702, -0.30617744, -0.24886745, -0.69787633,  0.21254012,\n",
       "       -0.26427454, -0.14862399,  0.19068497, -0.3979417 , -0.55712104,\n",
       "        0.04018565,  0.37100816, -0.47864872,  0.45453215, -0.00446814,\n",
       "       -0.37157252, -0.2544482 , -0.27805007,  0.4219273 ,  0.28189555,\n",
       "       -0.16040468,  0.26634416,  0.        ,  1.        ,  0.        ],\n",
       "      dtype=float32),\n",
       "       array([-3.0325958e-01, -3.5570055e-01,  5.8409947e-01, -1.8914488e-01,\n",
       "        2.1098584e-01,  4.8221907e-01, -2.4207529e-01, -1.9580476e-01,\n",
       "        1.0544521e-01,  2.8387842e-01,  6.2889084e-02,  1.7103982e-01,\n",
       "        1.7583022e-01, -1.7465930e-01, -1.6838105e-01,  5.7855308e-02,\n",
       "       -1.9987871e-01, -2.4508798e-01,  3.1008717e-01, -2.8044087e-01,\n",
       "        2.7552760e-01, -1.9362794e-01,  2.8244576e-01,  2.6403323e-01,\n",
       "        2.8826857e-01, -3.6468108e-03,  7.1009181e-02,  4.8310269e-02,\n",
       "        9.5190525e-02, -2.9910165e-01,  4.4530470e-02, -1.7918807e-01,\n",
       "       -2.4568135e-01, -2.6021644e-02,  1.8549772e-01, -7.1223870e-02,\n",
       "       -4.8516367e-02,  1.8104082e-01, -4.4943105e-02,  3.1526700e-01,\n",
       "       -5.5404592e-01,  1.7020305e-01, -2.2180222e-01, -7.5024962e-02,\n",
       "        6.5151297e-02, -1.5058027e-01, -8.0066256e-02, -1.7283593e-01,\n",
       "        1.4687229e-02,  2.4273591e-01,  1.9688639e-01,  1.7219387e-01,\n",
       "        3.3502677e-01,  4.1249779e-01, -7.2342038e-02, -2.3580603e-01,\n",
       "        2.2413526e-01, -1.8533821e-01, -3.9582488e-01,  3.1941614e-01,\n",
       "       -3.5741636e-01, -1.7802167e-01,  3.6403647e-01,  2.1106853e-01,\n",
       "        5.5530602e-01, -7.0870288e-02,  5.9927348e-02,  2.7843490e-03,\n",
       "       -1.1429748e-02, -4.4674966e-01, -9.4024897e-02, -2.5511971e-01,\n",
       "        6.4593732e-02,  7.2779292e-01,  4.2782107e-01,  1.6073065e-01,\n",
       "       -3.0696675e-01, -1.9085898e-01, -3.7272489e-01,  9.2224240e-02,\n",
       "       -8.9541703e-02,  6.8111785e-02,  3.2394665e-01, -3.0742121e-01,\n",
       "       -3.3649492e-01,  9.4908752e-02,  1.8070312e-01, -3.7339479e-01,\n",
       "        4.6628428e-01,  4.2327654e-02, -4.7219694e-01, -1.7517655e-01,\n",
       "        2.3964436e-01,  1.8781079e-01,  2.9061177e-01, -5.8011187e-04,\n",
       "        1.9229767e-01,  0.0000000e+00,  0.0000000e+00,  0.0000000e+00],\n",
       "      dtype=float32),\n",
       "       array([-0.47815317, -0.3410695 ,  0.59936565, -0.32068324,  0.10982925,\n",
       "        0.5616177 , -0.26361728, -0.28862506, -0.12267715,  0.52647686,\n",
       "        0.10170091,  0.16782627,  0.15211473, -0.447206  , -0.09885452,\n",
       "        0.19631398, -0.24829595, -0.20026772,  0.3226521 , -0.12915836,\n",
       "        0.170024  , -0.14465363,  0.32501388,  0.3092721 ,  0.31584466,\n",
       "        0.09672488, -0.04827858,  0.08517298,  0.24969271, -0.20208117,\n",
       "       -0.06086578, -0.27977186,  0.04268019, -0.2893659 ,  0.28521067,\n",
       "        0.03697282, -0.01710247, -0.10539257, -0.06970693,  0.11295809,\n",
       "       -0.5489751 ,  0.24235304, -0.10608127, -0.19332153,  0.02158272,\n",
       "       -0.07311606, -0.28829947, -0.19953907,  0.13113473,  0.0066982 ,\n",
       "        0.49418604, -0.11367176,  0.4876144 ,  0.48054203, -0.34049731,\n",
       "       -0.24083008,  0.04634643, -0.1768362 , -0.45332646,  0.17649956,\n",
       "       -0.52871096, -0.01023347,  0.31509838,  0.31355107,  0.5983951 ,\n",
       "       -0.22320911, -0.07610702, -0.09311806, -0.3407957 , -0.35951334,\n",
       "       -0.14151046, -0.10099738,  0.21073715,  0.7143831 ,  0.4926454 ,\n",
       "        0.11794032, -0.5509386 , -0.2559936 , -0.51991594,  0.3093061 ,\n",
       "       -0.27370763,  0.12771536,  0.23699692, -0.14845109, -0.29995644,\n",
       "        0.0672439 ,  0.3442079 , -0.3949513 ,  0.25212485, -0.15751302,\n",
       "       -0.4828837 , -0.07800529,  0.21432516,  0.17740595,  0.380512  ,\n",
       "        0.01881796,  0.22502504,  0.        ,  0.        ,  0.        ],\n",
       "      dtype=float32),\n",
       "       array([-0.13207366, -0.5833388 ,  0.5481788 , -0.02672099,  0.09101444,\n",
       "        0.47142288, -0.23156336,  0.12826684,  0.04029213,  0.13163842,\n",
       "        0.04837213,  0.36565965,  0.66580266, -0.17606886, -0.21033648,\n",
       "        0.24149275, -0.35666093, -0.33439872,  0.06533178, -0.43365747,\n",
       "        0.24085556, -0.16312976,  0.12694262,  0.22052123,  0.53441525,\n",
       "        0.2782598 , -0.47556946,  0.2600538 ,  0.06758431, -0.2716085 ,\n",
       "       -0.15757464, -0.36697134,  0.0611895 , -0.07815798,  0.30893347,\n",
       "       -0.03647374, -0.11956581,  0.08547722,  0.20287454,  0.10261786,\n",
       "       -0.6328308 ,  0.5173448 , -0.6370226 , -0.14379422,  0.03009448,\n",
       "       -0.33065453, -0.47071663, -0.13388695, -0.10622372, -0.06162269,\n",
       "        0.05206084,  0.4205534 ,  0.47456625,  0.20005892,  0.01589656,\n",
       "       -0.1539949 ,  0.20384772, -0.23551022, -0.3813761 , -0.04144665,\n",
       "       -0.2827301 ,  0.10603992,  0.10880069,  0.1821994 ,  0.7339157 ,\n",
       "       -0.25428474, -0.33405557, -0.3744029 ,  0.23989312, -0.5103918 ,\n",
       "       -0.23462471, -0.34016895,  0.25247994,  0.6455294 ,  0.63371754,\n",
       "        0.27228352, -0.56986463,  0.18325819, -0.2782479 ,  0.49164554,\n",
       "       -0.3307679 , -0.33023292,  0.17759119, -0.24913332, -0.4967888 ,\n",
       "        0.00209591,  0.12596124, -0.5295972 ,  0.18792613,  0.20891626,\n",
       "       -0.45279574, -0.15213124,  0.07789683,  0.11725754,  0.26184162,\n",
       "       -0.2593604 ,  0.0118825 ,  0.        ,  0.        ,  0.        ],\n",
       "      dtype=float32),\n",
       "       array([ 0.12047136, -0.17413215,  0.65968233, -0.33428696,  0.4161348 ,\n",
       "        0.4402497 , -0.5932463 , -0.25803274, -0.15368158, -0.00292908,\n",
       "        0.16612501,  0.11785287, -0.09767962, -0.42530963, -0.14536089,\n",
       "       -0.15170817, -0.41434097, -0.15272874,  0.66846544, -0.6153736 ,\n",
       "        0.81793386, -0.31823686,  0.05771377,  0.08297274,  0.56629145,\n",
       "        0.11676107,  0.133352  ,  0.0388936 ,  0.11017578, -0.37276182,\n",
       "        0.06557771, -0.14761911, -0.1230472 , -0.50200593,  0.04973153,\n",
       "        0.00994433, -0.39883852,  0.25027856,  0.3148007 ,  0.35365057,\n",
       "       -0.44543853, -0.2119651 , -0.4082882 , -0.07948685, -0.03619723,\n",
       "       -0.42086995, -0.5830867 ,  0.24857374,  0.11953493, -0.20391409,\n",
       "        0.29678413,  0.30182922,  0.5291202 ,  0.5124541 , -0.3733367 ,\n",
       "       -0.32289156,  0.18734992, -0.34634733, -0.2630026 ,  0.3605009 ,\n",
       "        0.016094  ,  0.01882782,  0.04088094,  0.36451602,  0.91452354,\n",
       "        0.12616019,  0.01505041, -0.09356766,  0.11281732, -0.7172068 ,\n",
       "        0.01578007, -0.21089195, -0.22892858,  0.6158433 ,  0.38742664,\n",
       "        0.35359934, -0.32099465, -0.13600351, -0.2883191 ,  0.39335144,\n",
       "       -0.04679866,  0.06232242,  0.22039698, -0.40994623,  0.01813687,\n",
       "       -0.14154539, -0.06046812, -0.6672332 ,  0.28525257,  0.10131245,\n",
       "        0.05072367,  0.13398354,  0.21141379, -0.06120467, -0.08158983,\n",
       "       -0.28365958, -0.14503981,  0.        ,  0.        ,  1.        ],\n",
       "      dtype=float32),\n",
       "       array([-0.4933303 , -0.07920373,  0.6191978 , -0.18825321, -0.14476427,\n",
       "        0.35843924, -0.2776551 , -0.16604914, -0.34741074,  0.29124513,\n",
       "        0.09582958,  0.16554615,  0.40040064, -0.12652878, -0.21700336,\n",
       "        0.29987082, -0.5156419 , -0.10164306, -0.04617901, -0.5480614 ,\n",
       "        0.19317688,  0.00920964,  0.430373  ,  0.09742195,  0.30491176,\n",
       "       -0.02109665,  0.0216003 , -0.02426239, -0.09651127, -0.45350453,\n",
       "        0.00901757, -0.28161702, -0.01982296, -0.156072  ,  0.38788453,\n",
       "       -0.05658511, -0.03506134, -0.05533919,  0.11185815,  0.32531756,\n",
       "       -0.68842393,  0.2846975 , -0.35943854, -0.04839076,  0.08751182,\n",
       "       -0.3093594 , -0.43409783,  0.00712638,  0.1998081 , -0.1812614 ,\n",
       "        0.1808274 ,  0.19621019,  0.26074016,  0.2318794 ,  0.00329252,\n",
       "       -0.14782041,  0.01760412, -0.13793628, -0.38760677,  0.2734582 ,\n",
       "       -0.31738466, -0.04825193,  0.1379909 ,  0.2520045 ,  0.45068523,\n",
       "        0.19956492, -0.0604411 , -0.12343181,  0.16134979, -0.548793  ,\n",
       "        0.07134693, -0.225867  ,  0.05713512,  0.8837072 ,  0.34622586,\n",
       "        0.5557635 , -0.06094148, -0.26182792, -0.5599328 ,  0.2535426 ,\n",
       "       -0.02684562,  0.2056618 ,  0.12823986, -0.4577734 , -0.30735385,\n",
       "        0.10497404,  0.18066475, -0.5404326 ,  0.42252547,  0.02910844,\n",
       "       -0.45314667, -0.09897888, -0.02718164,  0.16054441,  0.46193725,\n",
       "       -0.00869072,  0.417305  ,  0.        ,  1.        ,  0.        ],\n",
       "      dtype=float32),\n",
       "       array([-0.563982  , -0.06968955,  0.5384544 , -0.7688483 ,  0.18127769,\n",
       "        0.33122605, -0.14768437, -0.04311236, -0.08016232, -0.11343501,\n",
       "        0.05268669,  0.21704204, -0.08098059, -0.4889295 , -0.3704359 ,\n",
       "       -0.20332412, -0.26779392, -0.5446614 , -0.19454448, -0.37459818,\n",
       "       -0.01654122, -0.554309  ,  0.4660797 ,  0.23773651, -0.04195841,\n",
       "       -0.23324315, -0.03892137, -0.10567164, -0.24167812, -0.2090311 ,\n",
       "       -0.03643165, -0.46578842, -0.5403051 , -0.42179435,  0.5702108 ,\n",
       "       -0.00489339, -0.24260679,  0.2135087 ,  0.13099106,  0.3288811 ,\n",
       "       -0.45900196,  0.40396294, -0.12308274, -0.05074868,  0.34825963,\n",
       "       -0.3511208 , -0.4050425 ,  0.29154414,  0.33239847, -0.36645555,\n",
       "        0.33055457,  0.601424  ,  0.21624073,  0.2289314 ,  0.35246703,\n",
       "       -0.1148778 ,  0.02034067, -0.00913285, -0.2902679 ,  0.40702146,\n",
       "       -0.2947518 , -0.05518628,  0.01858311,  0.25731945,  0.9298679 ,\n",
       "        0.2680119 ,  0.00443482, -0.19158898,  0.33973438, -0.6830028 ,\n",
       "       -0.09511834, -0.15916178, -0.33046922,  0.32347882,  0.427874  ,\n",
       "        0.26295406, -0.4240772 , -0.04867759,  0.14012782,  0.4578782 ,\n",
       "       -0.20818038,  0.0565654 ,  0.29217586, -0.4841563 , -0.06958898,\n",
       "       -0.36586422,  0.44571322, -0.88963664,  0.6326226 ,  0.00193221,\n",
       "       -0.45006752,  0.05337524,  0.03933467,  0.40515977,  0.63382936,\n",
       "       -0.16642399,  0.05303985,  0.        ,  0.        ,  0.        ],\n",
       "      dtype=float32),\n",
       "       array([-0.4713985 , -0.48621312,  0.55096966,  0.1534596 ,  0.14204353,\n",
       "        0.41651237, -0.21517543,  0.14754589,  0.1797988 ,  0.12989646,\n",
       "        0.39709106,  0.04294978, -0.18763208, -0.53988034, -0.4415977 ,\n",
       "       -0.28532055,  0.04600928,  0.06917996, -0.11231127, -0.2931687 ,\n",
       "       -0.16728634,  0.27140743,  0.14649315,  0.5075703 ,  0.00747444,\n",
       "        0.27945462, -0.5731325 ,  0.126455  , -0.36099085, -0.3465011 ,\n",
       "       -0.31396866, -0.12709312, -0.08621   , -0.7199808 ,  0.61236995,\n",
       "       -0.283735  ,  0.1757464 , -0.03081605,  0.39031124,  0.12272825,\n",
       "       -0.2161792 ,  0.04165801, -0.17235239, -0.10830768, -0.12101287,\n",
       "       -0.5451749 , -0.58556384,  0.06467202,  0.30211666,  0.21729861,\n",
       "        0.02297077,  0.07408924,  0.6124536 ,  0.45015264,  0.30707523,\n",
       "       -0.36209264,  0.22513054,  0.28419787, -0.21190111, -0.03352367,\n",
       "       -0.18499328,  0.32923606,  0.8854394 ,  0.32653892,  0.260937  ,\n",
       "        0.18005419,  0.06012845,  0.01121568,  0.16841252, -0.32986   ,\n",
       "        0.33572832,  0.15464456, -0.07777456,  0.6017211 ,  0.9426159 ,\n",
       "       -0.04388528, -0.391528  , -0.7494707 , -0.36583766,  0.5498789 ,\n",
       "       -0.37237823,  0.32282662,  0.3628726 , -0.16861029, -0.0835766 ,\n",
       "        0.2286365 ,  0.7845059 , -0.54558665,  0.24806674, -0.2769179 ,\n",
       "       -0.37467003,  0.11556244,  0.32309136, -0.0267848 ,  1.018906  ,\n",
       "        0.10427042,  0.73874825,  0.        ,  0.        ,  0.        ],\n",
       "      dtype=float32),\n",
       "       array([-0.22254378, -0.3255823 ,  0.540102  , -0.28954032,  0.10255357,\n",
       "        0.26163828, -0.26462764, -0.27555528, -0.11601373,  0.15295856,\n",
       "        0.01707509,  0.38196304,  0.11936616, -0.434591  , -0.05988359,\n",
       "        0.1473446 , -0.33665815, -0.20387565,  0.49486715, -0.2930341 ,\n",
       "        0.39269555, -0.15520264,  0.24380544,  0.13506399,  0.24213108,\n",
       "        0.07065545,  0.04641876,  0.0257458 ,  0.27063128, -0.2588819 ,\n",
       "        0.03695206, -0.23432802, -0.22627503, -0.23651941,  0.09780562,\n",
       "       -0.22501184, -0.12407221, -0.1247042 , -0.06696342,  0.1580959 ,\n",
       "       -0.3332642 ,  0.11951948, -0.27217185, -0.08888613,  0.01379125,\n",
       "       -0.20099479, -0.53113616, -0.06532694,  0.07220698,  0.43049648,\n",
       "        0.2643743 , -0.00121048,  0.54858273,  0.47143966, -0.21891683,\n",
       "       -0.28206003,  0.05480808, -0.34915635, -0.58856124,  0.37658504,\n",
       "       -0.17784975, -0.23125313,  0.4299131 ,  0.07856382,  0.74026275,\n",
       "        0.11466558, -0.18860452,  0.09519899,  0.15330991, -0.38687244,\n",
       "       -0.18090954, -0.12138729, -0.02958411,  0.45772663,  0.3942843 ,\n",
       "        0.28695127, -0.3164147 , -0.32112366, -0.12837324,  0.03081296,\n",
       "       -0.3770257 , -0.06058492, -0.05841648, -0.2670174 , -0.16835397,\n",
       "       -0.08496998,  0.3330007 , -0.3081649 ,  0.11771692, -0.00895702,\n",
       "       -0.45736364, -0.19042465,  0.24658158,  0.2859816 ,  0.13881402,\n",
       "        0.09400079,  0.21004285,  0.        ,  0.        ,  0.        ],\n",
       "      dtype=float32)], dtype=object)"
      ]
     },
     "execution_count": 48,
     "metadata": {},
     "output_type": "execute_result"
    }
   ],
   "source": [
    "X_train.head(15).values"
   ]
  },
  {
   "cell_type": "code",
   "execution_count": 49,
   "metadata": {},
   "outputs": [
    {
     "data": {
      "text/plain": [
       "array([63, 40, 24, 60, 24, 24, 56, 42,  4, 24, 24, 24, 24, 24, 69])"
      ]
     },
     "execution_count": 49,
     "metadata": {},
     "output_type": "execute_result"
    }
   ],
   "source": [
    "y_train.head(15).values"
   ]
  },
  {
   "cell_type": "markdown",
   "metadata": {},
   "source": [
    "- Select classifier."
   ]
  },
  {
   "cell_type": "code",
   "execution_count": 50,
   "metadata": {},
   "outputs": [],
   "source": [
    "classifier = OneVsOneClassifier(LinearSVC(random_state=42))\n",
    "#classifier = OneVsRestClassifier(SVC(kernel='rbf', random_state=numpy.random.RandomState(12345678), cache_size=1024))\n",
    "#classifier = KNeighborsClassifier(n_neighbors=7, weights='uniform', algorithm='ball_tree', leaf_size=60, n_jobs=3)\n",
    "#classifier = OneVsOneClassifier(LinearSVC(random_state=numpy.random.RandomState(12345678)))"
   ]
  },
  {
   "cell_type": "markdown",
   "metadata": {},
   "source": [
    "### Run - One Time"
   ]
  },
  {
   "cell_type": "code",
   "execution_count": 52,
   "metadata": {},
   "outputs": [
    {
     "name": "stderr",
     "output_type": "stream",
     "text": [
      "C:\\Users\\ozan.tacalan\\AppData\\Local\\Programs\\Python\\Python36\\Lib\\site-packages\\sklearn\\svm\\base.py:922: ConvergenceWarning: Liblinear failed to converge, increase the number of iterations.\n",
      "  \"the number of iterations.\", ConvergenceWarning)\n"
     ]
    },
    {
     "name": "stdout",
     "output_type": "stream",
     "text": [
      "--- Train took 151.2292833328247 seconds ---\n",
      "--- Prediction took 435.1210095882416 seconds ---\n",
      "Accuracy: 0.6504478681476173\n"
     ]
    }
   ],
   "source": [
    "start_time = time.time()\n",
    "classifier = classifier.fit(X_train.values.tolist(), y_train.values.tolist())\n",
    "print(\"--- Train took %s seconds ---\" % (time.time() - start_time))\n",
    "start_time = time.time()\n",
    "#print('Accuracy: ' + str(classifier.score(X_test.values.tolist(), y_test.values.tolist(), sample_weight=weight_generator(100, 0.8, 1))))\n",
    "y_pred = classifier.predict(X_test.values.tolist())\n",
    "print(\"--- Prediction took %s seconds ---\" % (time.time() - start_time))\n",
    "print('Accuracy: ' + str(accuracy_score(y_test, y_pred)))\n",
    "#print(\"--- Score took %s seconds ---\" % (time.time() - start_time))"
   ]
  },
  {
   "cell_type": "markdown",
   "metadata": {},
   "source": [
    "1. Save confusion matrix as text (for debug purposes)"
   ]
  },
  {
   "cell_type": "code",
   "execution_count": 22,
   "metadata": {},
   "outputs": [
    {
     "data": {
      "text/plain": [
       "array([[ 4,  0,  0, ...,  0,  1,  0],\n",
       "       [ 2,  5,  0, ...,  0,  0,  0],\n",
       "       [ 0,  0, 15, ...,  0,  0,  0],\n",
       "       ...,\n",
       "       [ 0,  0,  0, ...,  8,  0,  0],\n",
       "       [ 0,  0,  0, ...,  0, 59,  0],\n",
       "       [ 0,  0,  0, ...,  0,  0,  0]])"
      ]
     },
     "execution_count": 22,
     "metadata": {},
     "output_type": "execute_result"
    }
   ],
   "source": [
    "tmp = confusion_matrix(le.inverse_transform(y_test), le.inverse_transform(y_pred)).astype(int)\n",
    "np.savetxt(\"generations\\\\cm_1.txt\", tmp, fmt='%d')\n",
    "tmp"
   ]
  },
  {
   "cell_type": "markdown",
   "metadata": {},
   "source": [
    "2. Get confusion matrix contents as content_name/frequency and save it to excel manually."
   ]
  },
  {
   "cell_type": "code",
   "execution_count": null,
   "metadata": {},
   "outputs": [],
   "source": [
    "#le.inverse_transform(y_test)\n",
    "unique_elements, counts_elements = np.unique(le.inverse_transform(y_test), return_counts=True)\n",
    "print(np.asarray((unique_elements, counts_elements)))\n",
    "print(len(unique_elements))\n",
    "print(len(counts_elements))"
   ]
  },
  {
   "cell_type": "markdown",
   "metadata": {},
   "source": [
    "3. Save confusion matrix as heatmap."
   ]
  },
  {
   "cell_type": "code",
   "execution_count": null,
   "metadata": {},
   "outputs": [],
   "source": [
    "confusion_mat = confusion_matrix(le.inverse_transform(y_test), le.inverse_transform(y_pred))\n",
    "plt.figure(figsize=(42, 36))\n",
    "plt.title(\"Confusion Matrix\", y=1.05, size=15)\n",
    "sbrn.heatmap(confusion_mat, annot=True, fmt=\"d\", yticklabels=np.unique(le.inverse_transform(y_test)), xticklabels=np.unique(le.inverse_transform(y_test)))\n",
    "plt.savefig(\"generations\\\\model_gen_1.png\")\n",
    "plt.show()"
   ]
  },
  {
   "cell_type": "markdown",
   "metadata": {},
   "source": [
    "### Run - K-Fold"
   ]
  },
  {
   "cell_type": "code",
   "execution_count": 51,
   "metadata": {},
   "outputs": [
    {
     "name": "stdout",
     "output_type": "stream",
     "text": [
      "TRAIN: [ 5905  5906  5907 ... 59043 59044 59045] TEST: [   0    1    2 ... 5902 5903 5904]\n",
      "Training took 194.84069085121155 seconds. Accuracy: 0.6646909398814564\n",
      "TRAIN: [    0     1     2 ... 59043 59044 59045] TEST: [ 5905  5906  5907 ... 11807 11808 11809]\n"
     ]
    },
    {
     "name": "stderr",
     "output_type": "stream",
     "text": [
      "C:\\Users\\ozan.tacalan\\AppData\\Local\\Programs\\Python\\Python36\\Lib\\site-packages\\sklearn\\svm\\base.py:922: ConvergenceWarning: Liblinear failed to converge, increase the number of iterations.\n",
      "  \"the number of iterations.\", ConvergenceWarning)\n"
     ]
    },
    {
     "name": "stdout",
     "output_type": "stream",
     "text": [
      "Training took 383.7857949733734 seconds. Accuracy: 0.6496189669771381\n",
      "TRAIN: [    0     1     2 ... 59043 59044 59045] TEST: [11810 11811 11812 ... 17712 17713 17714]\n",
      "Training took 576.7742025852203 seconds. Accuracy: 0.636917866215072\n",
      "TRAIN: [    0     1     2 ... 59043 59044 59045] TEST: [17715 17716 17717 ... 23617 23618 23619]\n",
      "Training took 763.6903302669525 seconds. Accuracy: 0.655376799322608\n",
      "TRAIN: [    0     1     2 ... 59043 59044 59045] TEST: [23620 23621 23622 ... 29522 29523 29524]\n",
      "Training took 957.5782661437988 seconds. Accuracy: 0.8106689246401355\n",
      "TRAIN: [    0     1     2 ... 59043 59044 59045] TEST: [29525 29526 29527 ... 35427 35428 35429]\n"
     ]
    },
    {
     "name": "stderr",
     "output_type": "stream",
     "text": [
      "C:\\Users\\ozan.tacalan\\AppData\\Local\\Programs\\Python\\Python36\\Lib\\site-packages\\sklearn\\svm\\base.py:922: ConvergenceWarning: Liblinear failed to converge, increase the number of iterations.\n",
      "  \"the number of iterations.\", ConvergenceWarning)\n",
      "C:\\Users\\ozan.tacalan\\AppData\\Local\\Programs\\Python\\Python36\\Lib\\site-packages\\sklearn\\svm\\base.py:922: ConvergenceWarning: Liblinear failed to converge, increase the number of iterations.\n",
      "  \"the number of iterations.\", ConvergenceWarning)\n"
     ]
    },
    {
     "name": "stdout",
     "output_type": "stream",
     "text": [
      "Training took 1154.5746421813965 seconds. Accuracy: 0.6552074513124471\n",
      "TRAIN: [    0     1     2 ... 59043 59044 59045] TEST: [35430 35431 35432 ... 41331 41332 41333]\n"
     ]
    },
    {
     "name": "stderr",
     "output_type": "stream",
     "text": [
      "C:\\Users\\ozan.tacalan\\AppData\\Local\\Programs\\Python\\Python36\\Lib\\site-packages\\sklearn\\svm\\base.py:922: ConvergenceWarning: Liblinear failed to converge, increase the number of iterations.\n",
      "  \"the number of iterations.\", ConvergenceWarning)\n",
      "C:\\Users\\ozan.tacalan\\AppData\\Local\\Programs\\Python\\Python36\\Lib\\site-packages\\sklearn\\svm\\base.py:922: ConvergenceWarning: Liblinear failed to converge, increase the number of iterations.\n",
      "  \"the number of iterations.\", ConvergenceWarning)\n"
     ]
    },
    {
     "name": "stdout",
     "output_type": "stream",
     "text": [
      "Training took 1344.7623281478882 seconds. Accuracy: 0.38109756097560976\n",
      "TRAIN: [    0     1     2 ... 59043 59044 59045] TEST: [41334 41335 41336 ... 47235 47236 47237]\n",
      "Training took 1573.4004561901093 seconds. Accuracy: 0.717140921409214\n",
      "TRAIN: [    0     1     2 ... 59043 59044 59045] TEST: [47238 47239 47240 ... 53139 53140 53141]\n"
     ]
    },
    {
     "name": "stderr",
     "output_type": "stream",
     "text": [
      "C:\\Users\\ozan.tacalan\\AppData\\Local\\Programs\\Python\\Python36\\Lib\\site-packages\\sklearn\\svm\\base.py:922: ConvergenceWarning: Liblinear failed to converge, increase the number of iterations.\n",
      "  \"the number of iterations.\", ConvergenceWarning)\n"
     ]
    },
    {
     "name": "stdout",
     "output_type": "stream",
     "text": [
      "Training took 1786.1700179576874 seconds. Accuracy: 0.6551490514905149\n",
      "TRAIN: [    0     1     2 ... 53139 53140 53141] TEST: [53142 53143 53144 ... 59043 59044 59045]\n",
      "Training took 1978.824057817459 seconds. Accuracy: 0.4657859078590786\n",
      "--- K-Fold took 1978.824057817459 seconds ---\n"
     ]
    }
   ],
   "source": [
    "start_time = time.time()\n",
    "kf = KFold(n_splits=10)\n",
    "\n",
    "classifiers = []\n",
    "y_preds = []\n",
    "scores = []\n",
    "train_indexes = []\n",
    "test_indexes = []\n",
    "X = df_processed['sentence']\n",
    "y = df_processed['label']\n",
    "for train_index, test_index in kf.split(X):\n",
    "    print(\"TRAIN:\", train_index, \"TEST:\", test_index)\n",
    "    train_indexes.append(train_index)\n",
    "    test_indexes.append(test_index)\n",
    "    X_train, X_test = X[train_index], X[test_index]\n",
    "    y_train, y_test = y[train_index], y[test_index]\n",
    "    c = OneVsOneClassifier(LinearSVC(random_state=None)).fit(X_train.values.tolist(), y_train.values.tolist())\n",
    "    y_pred = c.predict(X_test.values.tolist())\n",
    "    score = accuracy_score(y_test, y_pred)\n",
    "    print('Training took ' + str(time.time() - start_time) + ' seconds. Accuracy: ' + str(score))\n",
    "    classifiers.append(c)\n",
    "    y_preds.append(y_pred)\n",
    "    scores.append(score)\n",
    "print(\"--- K-Fold took %s seconds ---\" % (time.time() - start_time))"
   ]
  },
  {
   "cell_type": "code",
   "execution_count": 52,
   "metadata": {},
   "outputs": [
    {
     "data": {
      "text/plain": [
       "OneVsOneClassifier(estimator=LinearSVC(C=1.0, class_weight=None, dual=True, fit_intercept=True,\n",
       "     intercept_scaling=1, loss='squared_hinge', max_iter=1000,\n",
       "     multi_class='ovr', penalty='l2', random_state=None, tol=0.0001,\n",
       "     verbose=0),\n",
       "          n_jobs=None)"
      ]
     },
     "execution_count": 52,
     "metadata": {},
     "output_type": "execute_result"
    }
   ],
   "source": [
    "classifiers[4]"
   ]
  },
  {
   "cell_type": "code",
   "execution_count": null,
   "metadata": {},
   "outputs": [],
   "source": [
    "#df = pd.read_csv(\"pd.csv\", sep=\";\", skipinitialspace=True, engine='python') #engine='python' required to run in ipython\n",
    "df.loc[X_test.head(10).index.values.tolist()]"
   ]
  },
  {
   "cell_type": "code",
   "execution_count": null,
   "metadata": {},
   "outputs": [],
   "source": [
    "y_pred_str = le_label.inverse_transform(y_pred)\n",
    "#y_pred_str.astype('U')\n",
    "y_pred_str"
   ]
  },
  {
   "cell_type": "code",
   "execution_count": 64,
   "metadata": {},
   "outputs": [
    {
     "data": {
      "text/plain": [
       "69"
      ]
     },
     "execution_count": 64,
     "metadata": {},
     "output_type": "execute_result"
    }
   ],
   "source": [
    "len(set(le_label.inverse_transform(y_pred)))"
   ]
  },
  {
   "cell_type": "markdown",
   "metadata": {},
   "source": [
    "## Save Results\n",
    "Save findings in disk which corresponds to:\n",
    "- prediction_file_generationId.csv\n",
    "- model_file_generationId.csv"
   ]
  },
  {
   "cell_type": "code",
   "execution_count": 56,
   "metadata": {},
   "outputs": [
    {
     "data": {
      "text/plain": [
       "\"\\n# load it again\\nwith open(model_file, 'rb') as fid:\\n    gnb_loaded = cPickle.load(fid)\\n\""
      ]
     },
     "execution_count": 56,
     "metadata": {},
     "output_type": "execute_result"
    }
   ],
   "source": [
    "generation_id = 1 # Change this line for versioning\n",
    "\n",
    "#pred_file = 'generations\\\\prediction_' + str(generation_id) +'.csv'\n",
    "#model_file = 'generations\\\\gen_2\\\\model_gen_' + str(generation_id) +'_0_75803995341754.pkl'\n",
    "for i in range(10): # <<<- K Fold\n",
    "    model_file = 'generations\\\\gen_2\\\\model_gen_' + str(i) +'_' + str(scores[i]) + '.pkl'\n",
    "    with open(model_file, 'wb') as fid:\n",
    "        cPickle.dump(classifiers[i], fid)\n",
    "\n",
    "#tmp = df.loc[X_test.index.values.tolist()].copy()\n",
    "#tmp['label-pred'] = y_pred_str\n",
    "#tmp.to_csv(pred_file, encoding='ISO-8859-9', index=False, sep=';')\n",
    "\n",
    "# save the classifier\n",
    "#with open(model_file, 'wb') as fid:\n",
    "#    cPickle.dump(classifiers[2], fid)\n",
    "'''\n",
    "# load it again\n",
    "with open(model_file, 'rb') as fid:\n",
    "    gnb_loaded = cPickle.load(fid)\n",
    "'''"
   ]
  },
  {
   "cell_type": "markdown",
   "metadata": {},
   "source": [
    "## Removing Noise\n",
    "Remove validated incorrectly labeled data from our input. \n",
    "1. Test the accuracy of the current model and compare"
   ]
  },
  {
   "cell_type": "code",
   "execution_count": 119,
   "metadata": {},
   "outputs": [
    {
     "name": "stdout",
     "output_type": "stream",
     "text": [
      "Noise data size: 3501\n",
      "After noise removal data size: 55817.0\n"
     ]
    }
   ],
   "source": [
    "noise = pd.read_csv(\"differences\\\\noise_2_sentences.csv\", sep=\";\", skipinitialspace=True, engine='python') #engine='python' required to run in ipython\n",
    "tmp = pd.read_csv(\"differences\\\\noise_1_sentences.csv\", sep=\";\", skipinitialspace=True, engine='python')\n",
    "noise = pd.concat([noise, tmp])\n",
    "noise['sentence'] = noise['sentence'].str.replace('[{}]'.format(string.punctuation), ' ')\n",
    "print('Noise data size: {}'.format(noise['sentence'].size))\n",
    "df_processed = df.loc[~df['sentence'].isin(noise['sentence'].values)].copy(deep=True)\n",
    "print('After noise removal data size: {}'.format(df_processed.size/3))\n",
    "\n",
    "pred_no_noise_file = 'generations\\\\7_months_no_noise.csv'\n",
    "df_processed.to_csv(pred_no_noise_file, encoding='ISO-8859-9', index=False, sep=';')"
   ]
  },
  {
   "cell_type": "code",
   "execution_count": 125,
   "metadata": {},
   "outputs": [
    {
     "name": "stdout",
     "output_type": "stream",
     "text": [
      "X_test_no_noise size: 5594.0\n",
      "y_test_no_noise size: 5594.0\n"
     ]
    },
    {
     "name": "stderr",
     "output_type": "stream",
     "text": [
      "C:\\Users\\ozan.tacalan\\AppData\\Local\\Continuum\\anaconda3\\lib\\site-packages\\ipykernel_launcher.py:47: DeprecationWarning: Call to deprecated `__getitem__` (Method will be removed in 4.0.0, use self.wv.__getitem__() instead).\n"
     ]
    },
    {
     "name": "stdout",
     "output_type": "stream",
     "text": [
      "# of failed word calculation: 134\n",
      "# of failed word calculation: 134\n",
      "--- Prediction took 115.08740496635437 seconds ---\n",
      "Accuracy: 0.6841258491240615\n"
     ]
    }
   ],
   "source": [
    "noise = pd.read_csv(\"differences\\\\noise_2_sentences.csv\", sep=\";\", skipinitialspace=True, engine='python') #engine='python' required to run in ipython\n",
    "noise['sentence'] = noise['sentence'].str.replace('[{}]'.format(string.punctuation), ' ')\n",
    "\n",
    "X_test_no_noise = df.loc[X_test.index.values.tolist()].copy()\n",
    "X_test_no_noise = X_test_no_noise[~X_test_no_noise['sentence'].isin(noise['sentence'].values)]\n",
    "print('X_test_no_noise size: ' + str(X_test_no_noise.size/3))\n",
    "\n",
    "y_test_no_noise = df.loc[y_test.index.values.tolist()].copy()\n",
    "y_test_no_noise = y_test_no_noise[~y_test_no_noise['sentence'].isin(noise['sentence'].values)]\n",
    "print('y_test_no_noise size: ' + str(y_test_no_noise.size/3))\n",
    "\n",
    "#Label encoding\n",
    "X_test_no_noise['label'] = le.transform(X_test_no_noise['label'].values)\n",
    "X_test_no_noise['source'] = preprocessing.LabelEncoder().fit_transform(X_test_no_noise['source'].values)\n",
    "y_test_no_noise['label'] = le.transform(y_test_no_noise['label'].values)\n",
    "y_test_no_noise['source'] = preprocessing.LabelEncoder().fit_transform(y_test_no_noise['source'].values)\n",
    "\n",
    "X_test_no_noise['sentence'] = convert_str_array_to_numpy_vector(model, X_test_no_noise['sentence'].values.tolist(), X_test_no_noise['source'].values.tolist(), 'Average')\n",
    "y_test_no_noise['sentence'] = convert_str_array_to_numpy_vector(model, y_test_no_noise['sentence'].values.tolist(), y_test_no_noise['source'].values.tolist(), 'Average')\n",
    "\n",
    "start_time = time.time()\n",
    "y_pred_no_noise = classifier.predict(X_test_no_noise['sentence'].values.tolist())\n",
    "print(\"--- Prediction took %s seconds ---\" % (time.time() - start_time))\n",
    "print('Accuracy: ' + str(accuracy_score(y_test_no_noise['label'], y_pred_no_noise)))\n",
    "y_pred_no_noise_str = le.inverse_transform(y_pred_no_noise)\n",
    "\n",
    "pred_no_noise_file = 'generations\\\\prediction_' + str(generation_id) +'_no_noise.csv'\n",
    "tmp = X_test_no_noise\n",
    "tmp['label-pred'] = y_pred_no_noise_str\n",
    "tmp.to_csv(pred_file, encoding='ISO-8859-9', index=False, sep=';')"
   ]
  },
  {
   "cell_type": "code",
   "execution_count": 126,
   "metadata": {},
   "outputs": [],
   "source": [
    "y_pred_no_noise_str = le.inverse_transform(y_pred_no_noise)\n",
    "\n",
    "pred_no_noise_file = 'generations\\\\prediction_' + str(generation_id) +'_no_noise.csv'\n",
    "tmp = df.loc[X_test_no_noise.index.values.tolist()].copy()\n",
    "\n",
    "tmp['label-pred'] = y_pred_no_noise_str\n",
    "tmp.to_csv(pred_no_noise_file, encoding='ISO-8859-9', index=False, sep=';')"
   ]
  },
  {
   "cell_type": "markdown",
   "metadata": {},
   "source": [
    "2. Re-train a model and measure accuracy of that model"
   ]
  },
  {
   "cell_type": "markdown",
   "metadata": {},
   "source": [
    "##### Prepare the data."
   ]
  },
  {
   "cell_type": "code",
   "execution_count": 155,
   "metadata": {},
   "outputs": [
    {
     "name": "stdout",
     "output_type": "stream",
     "text": [
      "df_no_noise size: 57239.0\n"
     ]
    }
   ],
   "source": [
    "df_no_noise = df[~df['sentence'].isin(noise['sentence'].values)]\n",
    "print('df_no_noise size: ' + str(df_no_noise.size/3))"
   ]
  },
  {
   "cell_type": "code",
   "execution_count": 156,
   "metadata": {},
   "outputs": [
    {
     "name": "stderr",
     "output_type": "stream",
     "text": [
      "C:\\Users\\ozan.tacalan\\AppData\\Local\\Continuum\\anaconda3\\lib\\site-packages\\ipykernel_launcher.py:2: SettingWithCopyWarning: \n",
      "A value is trying to be set on a copy of a slice from a DataFrame.\n",
      "Try using .loc[row_indexer,col_indexer] = value instead\n",
      "\n",
      "See the caveats in the documentation: http://pandas.pydata.org/pandas-docs/stable/indexing.html#indexing-view-versus-copy\n",
      "  \n",
      "C:\\Users\\ozan.tacalan\\AppData\\Local\\Continuum\\anaconda3\\lib\\site-packages\\ipykernel_launcher.py:3: SettingWithCopyWarning: \n",
      "A value is trying to be set on a copy of a slice from a DataFrame.\n",
      "Try using .loc[row_indexer,col_indexer] = value instead\n",
      "\n",
      "See the caveats in the documentation: http://pandas.pydata.org/pandas-docs/stable/indexing.html#indexing-view-versus-copy\n",
      "  This is separate from the ipykernel package so we can avoid doing imports until\n",
      "C:\\Users\\ozan.tacalan\\AppData\\Local\\Continuum\\anaconda3\\lib\\site-packages\\ipykernel_launcher.py:47: DeprecationWarning: Call to deprecated `__getitem__` (Method will be removed in 4.0.0, use self.wv.__getitem__() instead).\n"
     ]
    },
    {
     "name": "stdout",
     "output_type": "stream",
     "text": [
      "# of failed word calculation: 1296\n",
      "--- Data preparation took 24.467040538787842 seconds ---\n"
     ]
    },
    {
     "name": "stderr",
     "output_type": "stream",
     "text": [
      "C:\\Users\\ozan.tacalan\\AppData\\Local\\Continuum\\anaconda3\\lib\\site-packages\\ipykernel_launcher.py:4: SettingWithCopyWarning: \n",
      "A value is trying to be set on a copy of a slice from a DataFrame.\n",
      "Try using .loc[row_indexer,col_indexer] = value instead\n",
      "\n",
      "See the caveats in the documentation: http://pandas.pydata.org/pandas-docs/stable/indexing.html#indexing-view-versus-copy\n",
      "  after removing the cwd from sys.path.\n"
     ]
    },
    {
     "data": {
      "text/html": [
       "<div>\n",
       "<style scoped>\n",
       "    .dataframe tbody tr th:only-of-type {\n",
       "        vertical-align: middle;\n",
       "    }\n",
       "\n",
       "    .dataframe tbody tr th {\n",
       "        vertical-align: top;\n",
       "    }\n",
       "\n",
       "    .dataframe thead th {\n",
       "        text-align: right;\n",
       "    }\n",
       "</style>\n",
       "<table border=\"1\" class=\"dataframe\">\n",
       "  <thead>\n",
       "    <tr style=\"text-align: right;\">\n",
       "      <th></th>\n",
       "      <th>sentence</th>\n",
       "      <th>label</th>\n",
       "      <th>source</th>\n",
       "    </tr>\n",
       "  </thead>\n",
       "  <tbody>\n",
       "    <tr>\n",
       "      <th>0</th>\n",
       "      <td>[-0.13886453, -0.5717392, 0.6484746, -0.359751...</td>\n",
       "      <td>1</td>\n",
       "      <td>0</td>\n",
       "    </tr>\n",
       "    <tr>\n",
       "      <th>1</th>\n",
       "      <td>[-0.21332426, -0.45715767, 0.5091378, -0.22698...</td>\n",
       "      <td>1</td>\n",
       "      <td>0</td>\n",
       "    </tr>\n",
       "    <tr>\n",
       "      <th>2</th>\n",
       "      <td>[-0.088749014, -0.3895533, 0.5956384, -0.16928...</td>\n",
       "      <td>1</td>\n",
       "      <td>0</td>\n",
       "    </tr>\n",
       "    <tr>\n",
       "      <th>3</th>\n",
       "      <td>[-0.2687642, -0.21038985, 0.7433767, -0.172685...</td>\n",
       "      <td>5</td>\n",
       "      <td>0</td>\n",
       "    </tr>\n",
       "    <tr>\n",
       "      <th>4</th>\n",
       "      <td>[-0.25181404, -0.15667057, 0.71771836, -0.2785...</td>\n",
       "      <td>5</td>\n",
       "      <td>0</td>\n",
       "    </tr>\n",
       "    <tr>\n",
       "      <th>5</th>\n",
       "      <td>[-0.1718809, -0.35072204, 0.47582346, -0.21936...</td>\n",
       "      <td>2</td>\n",
       "      <td>0</td>\n",
       "    </tr>\n",
       "    <tr>\n",
       "      <th>6</th>\n",
       "      <td>[-0.22355895, -0.34208745, 0.55608106, -0.1980...</td>\n",
       "      <td>4</td>\n",
       "      <td>0</td>\n",
       "    </tr>\n",
       "    <tr>\n",
       "      <th>7</th>\n",
       "      <td>[-0.20182048, -0.32203072, 0.88891727, -0.2880...</td>\n",
       "      <td>5</td>\n",
       "      <td>0</td>\n",
       "    </tr>\n",
       "    <tr>\n",
       "      <th>8</th>\n",
       "      <td>[-0.3397589, -0.24134636, 0.82864255, -0.09685...</td>\n",
       "      <td>5</td>\n",
       "      <td>0</td>\n",
       "    </tr>\n",
       "    <tr>\n",
       "      <th>9</th>\n",
       "      <td>[-0.13908678, -0.3037831, 0.6157272, -0.165231...</td>\n",
       "      <td>5</td>\n",
       "      <td>0</td>\n",
       "    </tr>\n",
       "    <tr>\n",
       "      <th>10</th>\n",
       "      <td>[-0.21712987, -0.26985326, 0.77050537, -0.0401...</td>\n",
       "      <td>5</td>\n",
       "      <td>0</td>\n",
       "    </tr>\n",
       "    <tr>\n",
       "      <th>11</th>\n",
       "      <td>[-0.22160651, -0.3574118, 0.6209752, -0.272695...</td>\n",
       "      <td>5</td>\n",
       "      <td>1</td>\n",
       "    </tr>\n",
       "    <tr>\n",
       "      <th>12</th>\n",
       "      <td>[-0.2866762, -0.38172027, 0.60821813, -0.31200...</td>\n",
       "      <td>5</td>\n",
       "      <td>0</td>\n",
       "    </tr>\n",
       "    <tr>\n",
       "      <th>13</th>\n",
       "      <td>[-0.16149488, -0.31038404, 0.7961126, -0.45095...</td>\n",
       "      <td>5</td>\n",
       "      <td>0</td>\n",
       "    </tr>\n",
       "    <tr>\n",
       "      <th>14</th>\n",
       "      <td>[-0.17066464, -0.36873135, 0.72285205, -0.0722...</td>\n",
       "      <td>5</td>\n",
       "      <td>0</td>\n",
       "    </tr>\n",
       "  </tbody>\n",
       "</table>\n",
       "</div>"
      ],
      "text/plain": [
       "                                             sentence  label  source\n",
       "0   [-0.13886453, -0.5717392, 0.6484746, -0.359751...      1       0\n",
       "1   [-0.21332426, -0.45715767, 0.5091378, -0.22698...      1       0\n",
       "2   [-0.088749014, -0.3895533, 0.5956384, -0.16928...      1       0\n",
       "3   [-0.2687642, -0.21038985, 0.7433767, -0.172685...      5       0\n",
       "4   [-0.25181404, -0.15667057, 0.71771836, -0.2785...      5       0\n",
       "5   [-0.1718809, -0.35072204, 0.47582346, -0.21936...      2       0\n",
       "6   [-0.22355895, -0.34208745, 0.55608106, -0.1980...      4       0\n",
       "7   [-0.20182048, -0.32203072, 0.88891727, -0.2880...      5       0\n",
       "8   [-0.3397589, -0.24134636, 0.82864255, -0.09685...      5       0\n",
       "9   [-0.13908678, -0.3037831, 0.6157272, -0.165231...      5       0\n",
       "10  [-0.21712987, -0.26985326, 0.77050537, -0.0401...      5       0\n",
       "11  [-0.22160651, -0.3574118, 0.6209752, -0.272695...      5       1\n",
       "12  [-0.2866762, -0.38172027, 0.60821813, -0.31200...      5       0\n",
       "13  [-0.16149488, -0.31038404, 0.7961126, -0.45095...      5       0\n",
       "14  [-0.17066464, -0.36873135, 0.72285205, -0.0722...      5       0"
      ]
     },
     "execution_count": 156,
     "metadata": {},
     "output_type": "execute_result"
    }
   ],
   "source": [
    "start_time = time.time()\n",
    "df_no_noise['label'] = le.transform(df_no_noise['label'].values)\n",
    "df_no_noise['source'] = preprocessing.LabelEncoder().fit_transform(df_no_noise['source'].values)\n",
    "df_no_noise['sentence'] = convert_str_array_to_numpy_vector(model, df_no_noise['sentence'].values.tolist(), df_no_noise['source'].values.tolist(), 'Average')\n",
    "print(\"--- Data preparation took %s seconds ---\" % (time.time() - start_time))\n",
    "df_no_noise.head(15)"
   ]
  },
  {
   "cell_type": "markdown",
   "metadata": {},
   "source": [
    "##### Split to train and test data"
   ]
  },
  {
   "cell_type": "code",
   "execution_count": 157,
   "metadata": {},
   "outputs": [
    {
     "name": "stdout",
     "output_type": "stream",
     "text": [
      "X.shape: (57239,)\n",
      "y.shape: (57239,)\n",
      "X_train.shape: (42929,)\n",
      "y_train.shape: (42929,)\n",
      "X_test.shape: (14310,)\n",
      "y_test.shape: (14310,)\n"
     ]
    }
   ],
   "source": [
    "X = df_no_noise['sentence'].copy(deep=True)\n",
    "y = df_no_noise['label'].copy(deep=True)\n",
    "print('X.shape: ' + str(X.shape))\n",
    "print('y.shape: ' + str(y.shape))\n",
    "#X_train, X_test, y_train, y_test = train_test_split(X, y, test_size=0.25, random_state=42)\n",
    "X_train, X_test, y_train, y_test = train_test_split(X, y, test_size=0.25, random_state=None)\n",
    "print('X_train.shape: ' + str(X_train.shape))\n",
    "print('y_train.shape: ' + str(y_train.shape))\n",
    "print('X_test.shape: ' + str(X_test.shape))\n",
    "print('y_test.shape: ' + str(y_test.shape))"
   ]
  },
  {
   "cell_type": "markdown",
   "metadata": {},
   "source": [
    "##### Train and test: One Time Run"
   ]
  },
  {
   "cell_type": "code",
   "execution_count": 158,
   "metadata": {},
   "outputs": [
    {
     "name": "stdout",
     "output_type": "stream",
     "text": [
      "--- Train took 88.18103456497192 seconds ---\n",
      "--- Prediction took 310.9050850868225 seconds ---\n",
      "Accuracy: 0.6545073375262055\n"
     ]
    }
   ],
   "source": [
    "start_time = time.time()\n",
    "classifier_no_noise = OneVsOneClassifier(LinearSVC(random_state=None))\n",
    "classifier_no_noise = classifier_no_noise.fit(X_train.values.tolist(), y_train.values.tolist())\n",
    "print(\"--- Train took %s seconds ---\" % (time.time() - start_time))\n",
    "start_time = time.time()\n",
    "#print('Accuracy: ' + str(classifier.score(X_test.values.tolist(), y_test.values.tolist(), sample_weight=weight_generator(100, 0.8, 1))))\n",
    "y_pred_no_noise = classifier_no_noise.predict(X_test.values.tolist())\n",
    "print(\"--- Prediction took %s seconds ---\" % (time.time() - start_time))\n",
    "print('Accuracy: ' + str(accuracy_score(y_test, y_pred_no_noise)))\n",
    "y_pred_no_noise_str = le.inverse_transform(y_pred_no_noise)"
   ]
  },
  {
   "cell_type": "markdown",
   "metadata": {},
   "source": [
    "##### Train and test: K-Fold"
   ]
  },
  {
   "cell_type": "code",
   "execution_count": null,
   "metadata": {},
   "outputs": [],
   "source": []
  },
  {
   "cell_type": "markdown",
   "metadata": {},
   "source": [
    "## Predict External Data With Pre-Existing Classifier"
   ]
  },
  {
   "cell_type": "code",
   "execution_count": null,
   "metadata": {},
   "outputs": [],
   "source": [
    "start_time = time.time()\n",
    "fp_classifier = \"generations\\\\model_gen_1_0_75803995341754.pkl\"\n",
    "fp_data = \"fp_data.csv\"\n",
    "fp_pred = \"fp_pred.txt\"\n",
    "\n",
    "#\n",
    "#DO NOT ALTER BELOW\n",
    "#\n",
    "#load pre-existing classifier from disk\n",
    "with open(fp_classifier, 'rb') as fid:\n",
    "    _classifier = cPickle.load(fid)\n",
    "print('Classifier: ' + str(_classifier))\n",
    "\n",
    "#load data\n",
    "_df = pd.read_csv(fp_data, sep=\";\", skipinitialspace=True, engine='python') #engine='python' required to run in ipython\n",
    "print(_df.head(10))\n",
    "\n",
    "#prepare\n",
    "_df['source'] = preprocessing.LabelEncoder().fit_transform(_df['source'].values)\n",
    "_df['sentence'] = convert_str_array_to_numpy_vector(model, _df['sentence'].values.tolist(), _df['source'].values.tolist(), 'Average')\n",
    "print('Data size: ' + str(_df.size / _df.columns.size))\n",
    "\n",
    "#predict\n",
    "_y_pred = _classifier.predict(_df['sentence'].values.tolist())\n",
    "_y_pred = le.inverse_transform(_y_pred)\n",
    "np.savetxt(fp_pred, _y_pred, delimiter=',', fmt='%s')\n",
    "\n",
    "print(\"--- Prediction took %s seconds ---\" % (time.time() - start_time))"
   ]
  },
  {
   "cell_type": "code",
   "execution_count": null,
   "metadata": {},
   "outputs": [],
   "source": []
  }
 ],
 "metadata": {
  "kernelspec": {
   "display_name": "Python 3",
   "language": "python",
   "name": "python3"
  },
  "language_info": {
   "codemirror_mode": {
    "name": "ipython",
    "version": 3
   },
   "file_extension": ".py",
   "mimetype": "text/x-python",
   "name": "python",
   "nbconvert_exporter": "python",
   "pygments_lexer": "ipython3",
   "version": "3.7.0"
  }
 },
 "nbformat": 4,
 "nbformat_minor": 2
}
