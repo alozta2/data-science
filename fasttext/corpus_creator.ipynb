{
 "cells": [
  {
   "cell_type": "markdown",
   "metadata": {},
   "source": [
    "# Corpus Creator"
   ]
  },
  {
   "cell_type": "markdown",
   "metadata": {},
   "source": [
    "Links:\n",
    "https://stackoverflow.com/questions/38287772/cbow-v-s-skip-gram-why-invert-context-and-target-words"
   ]
  },
  {
   "cell_type": "code",
   "execution_count": 1,
   "metadata": {},
   "outputs": [
    {
     "name": "stderr",
     "output_type": "stream",
     "text": [
      "C:\\Users\\ozan.tacalan\\AppData\\Local\\Programs\\Python\\Python36\\Lib\\site-packages\\gensim\\utils.py:1212: UserWarning: detected Windows; aliasing chunkize to chunkize_serial\n",
      "  warnings.warn(\"detected Windows; aliasing chunkize to chunkize_serial\")\n"
     ]
    }
   ],
   "source": [
    "from gensim.test.utils import get_tmpfile\n",
    "from gensim.models import FastText\n",
    "import pandas as pd\n",
    "import time\n",
    "import string"
   ]
  },
  {
   "cell_type": "code",
   "execution_count": 2,
   "metadata": {},
   "outputs": [],
   "source": [
    "VECTOR_DIM=300"
   ]
  },
  {
   "cell_type": "markdown",
   "metadata": {},
   "source": [
    "# 1. Load Input"
   ]
  },
  {
   "cell_type": "markdown",
   "metadata": {},
   "source": [
    "Remove punctuation and set encoding to UTF8."
   ]
  },
  {
   "cell_type": "code",
   "execution_count": 3,
   "metadata": {},
   "outputs": [
    {
     "name": "stdout",
     "output_type": "stream",
     "text": [
      "--- This action took 35 seconds ---\n",
      "Shape:  (2028331, 1)\n"
     ]
    },
    {
     "data": {
      "text/html": [
       "<div>\n",
       "<style scoped>\n",
       "    .dataframe tbody tr th:only-of-type {\n",
       "        vertical-align: middle;\n",
       "    }\n",
       "\n",
       "    .dataframe tbody tr th {\n",
       "        vertical-align: top;\n",
       "    }\n",
       "\n",
       "    .dataframe thead th {\n",
       "        text-align: right;\n",
       "    }\n",
       "</style>\n",
       "<table border=\"1\" class=\"dataframe\">\n",
       "  <thead>\n",
       "    <tr style=\"text-align: right;\">\n",
       "      <th></th>\n",
       "      <th>SMS2_REPLY_TEXT</th>\n",
       "    </tr>\n",
       "  </thead>\n",
       "  <tbody>\n",
       "    <tr>\n",
       "      <th>0</th>\n",
       "      <td>Cozumlerime kolay ulasabiliyorum</td>\n",
       "    </tr>\n",
       "    <tr>\n",
       "      <th>1</th>\n",
       "      <td>Makine ile karşı karşıya bırakılıyor sıkıntıla...</td>\n",
       "    </tr>\n",
       "    <tr>\n",
       "      <th>2</th>\n",
       "      <td>Yanlız olmadığım zaman</td>\n",
       "    </tr>\n",
       "    <tr>\n",
       "      <th>3</th>\n",
       "      <td>Berbat bir sisteminiz var Hiçbir şekilde çözüm...</td>\n",
       "    </tr>\n",
       "    <tr>\n",
       "      <th>4</th>\n",
       "      <td>Işlemlerimizi daha hızlı yapabilmek için</td>\n",
       "    </tr>\n",
       "  </tbody>\n",
       "</table>\n",
       "</div>"
      ],
      "text/plain": [
       "                                     SMS2_REPLY_TEXT\n",
       "0                   Cozumlerime kolay ulasabiliyorum\n",
       "1  Makine ile karşı karşıya bırakılıyor sıkıntıla...\n",
       "2                             Yanlız olmadığım zaman\n",
       "3  Berbat bir sisteminiz var Hiçbir şekilde çözüm...\n",
       "4           Işlemlerimizi daha hızlı yapabilmek için"
      ]
     },
     "execution_count": 3,
     "metadata": {},
     "output_type": "execute_result"
    }
   ],
   "source": [
    "start_time = time.time()\n",
    "df = pd.read_csv(\"sms2_reply_text.csv\", sep=\";\", skipinitialspace=True, encoding='utf_8', engine='python') #engine='python' required to run in ipython\n",
    "df['SMS2_REPLY_TEXT'] = df['SMS2_REPLY_TEXT'].str.replace('[{}]'.format(string.punctuation), ' ') # remove punctuation\n",
    "df['SMS2_REPLY_TEXT'] = df['SMS2_REPLY_TEXT'].replace('\\s+', ' ', regex=True)\n",
    "df['SMS2_REPLY_TEXT'] = df['SMS2_REPLY_TEXT'].astype(str)\n",
    "print(\"--- This action took %s seconds ---\" % int(time.time() - start_time))\n",
    "print(\"Shape: \", df.shape)\n",
    "df.head()"
   ]
  },
  {
   "cell_type": "markdown",
   "metadata": {},
   "source": [
    "# 2. Run FastText"
   ]
  },
  {
   "cell_type": "markdown",
   "metadata": {},
   "source": [
    "Generate a FastText model based on given corpus."
   ]
  },
  {
   "cell_type": "code",
   "execution_count": 4,
   "metadata": {},
   "outputs": [
    {
     "name": "stdout",
     "output_type": "stream",
     "text": [
      "--- This action took 2847 seconds ---\n"
     ]
    }
   ],
   "source": [
    "start_time = time.time()\n",
    "model_sg = FastText(sentences=df.values, min_count=1, size=VECTOR_DIM, sg=1, workers=4, hs=1) #skip-gram, predict the context by given word\n",
    "model_sg.save(\"C:\\\\Users\\\\ozan.tacalan\\\\Documents\\\\DataAnalysis\\\\VerbatimAnalysis\\\\corpus\\\\sg\\\\fasttext.model\")\n",
    "print(\"--- This action took %s seconds ---\" % int(time.time() - start_time))"
   ]
  },
  {
   "cell_type": "code",
   "execution_count": 4,
   "metadata": {},
   "outputs": [
    {
     "name": "stdout",
     "output_type": "stream",
     "text": [
      "--- This action took 2857 seconds ---\n"
     ]
    }
   ],
   "source": [
    "start_time = time.time()\n",
    "model_cbow = FastText(sentences=df.values, min_count=1, size=VECTOR_DIM, sg=0, workers=4, hs=1) #CBOW, predict the word by given context\n",
    "model_cbow.save(\"C:\\\\Users\\\\ozan.tacalan\\\\Documents\\\\DataAnalysis\\\\VerbatimAnalysis\\\\corpus\\\\cbow\\\\fasttext.model\")\n",
    "print(\"--- This action took %s seconds ---\" % int(time.time() - start_time))"
   ]
  },
  {
   "cell_type": "code",
   "execution_count": null,
   "metadata": {},
   "outputs": [],
   "source": []
  }
 ],
 "metadata": {
  "kernelspec": {
   "display_name": "Python 3",
   "language": "python",
   "name": "python3"
  },
  "language_info": {
   "codemirror_mode": {
    "name": "ipython",
    "version": 3
   },
   "file_extension": ".py",
   "mimetype": "text/x-python",
   "name": "python",
   "nbconvert_exporter": "python",
   "pygments_lexer": "ipython3",
   "version": "3.7.0"
  }
 },
 "nbformat": 4,
 "nbformat_minor": 2
}
